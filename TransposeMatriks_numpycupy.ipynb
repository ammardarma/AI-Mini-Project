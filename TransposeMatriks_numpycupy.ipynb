{
  "nbformat": 4,
  "nbformat_minor": 0,
  "metadata": {
    "colab": {
      "name": "TransposeMatriks-numpycupy.ipynb",
      "provenance": []
    },
    "kernelspec": {
      "name": "python3",
      "display_name": "Python 3"
    },
    "language_info": {
      "name": "python"
    }
  },
  "cells": [
    {
      "cell_type": "code",
      "metadata": {
        "id": "gUFSUCl8RvUw"
      },
      "source": [
        "import time\n",
        "import numpy as np"
      ],
      "execution_count": null,
      "outputs": []
    },
    {
      "cell_type": "code",
      "metadata": {
        "id": "ta0DY0OmUOQD"
      },
      "source": [
        "import cupy"
      ],
      "execution_count": null,
      "outputs": []
    },
    {
      "cell_type": "code",
      "metadata": {
        "colab": {
          "base_uri": "https://localhost:8080/"
        },
        "id": "zEAOaEW5UWWo",
        "outputId": "a6a99cff-6863-4eb7-f6c9-f69b108c2653"
      },
      "source": [
        "s = time.time()\n",
        "A = np.random.randint(10, size=(1000,1000))\n",
        "C = A.transpose()\n",
        "e = time.time()\n",
        "\n",
        "print(\"Waktu CPU adalah : \", e - s, \"detik \")"
      ],
      "execution_count": null,
      "outputs": [
        {
          "output_type": "stream",
          "text": [
            "Waktu CPU adalah :  0.028693437576293945 detik \n"
          ],
          "name": "stdout"
        }
      ]
    },
    {
      "cell_type": "code",
      "metadata": {
        "id": "aNP1LUbnU0Ev"
      },
      "source": [
        "s = time.time()\n",
        "B = cp.random.randint(10, size=(1000,1000))\n",
        "E = B.transpose()\n",
        "cp.cuda.Stream.null.Synchronize() \n",
        "e = time.time()\n",
        "\n",
        "print(\"Waktu CPU adalah: \", e- s, \"detik \")"
      ],
      "execution_count": null,
      "outputs": []
    }
  ]
}