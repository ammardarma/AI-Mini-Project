{
  "nbformat": 4,
  "nbformat_minor": 0,
  "metadata": {
    "colab": {
      "name": "sourcecode.ipynb",
      "provenance": []
    },
    "kernelspec": {
      "name": "python3",
      "display_name": "Python 3"
    },
    "language_info": {
      "name": "python"
    }
  },
  "cells": [
    {
      "cell_type": "code",
      "metadata": {
        "id": "5Lt-rhZw0AS4"
      },
      "source": [
        "##import tools yang dibutuhkan\n",
        "from ipywidgets import * \n",
        "import numpy as np"
      ],
      "execution_count": 1,
      "outputs": []
    },
    {
      "cell_type": "code",
      "metadata": {
        "id": "XrZ8YS1I0UmY"
      },
      "source": [
        "##membuat tombol untuk menentukan pilihan pengguna\n",
        "btn_zero = Button(description='0')\n",
        "btn_one = Button(description='1')\n",
        "btns = HBox([btn_zero,btn_one])"
      ],
      "execution_count": 8,
      "outputs": []
    },
    {
      "cell_type": "code",
      "metadata": {
        "id": "DD7opbcX1Yw8"
      },
      "source": [
        "## MEMBUAT PAPAN SCORE\n",
        "\n",
        "usr_score = IntProgress( value = 0, min = 0, max = 30, description = 'You', bar_style='success')\n",
        "bot_score = IntProgress(value = 0, min = 0, max = 30, description='Bot', bar_style='danger')\n",
        "scoreboard = VBox([usr_score, bot_score])\n",
        "scoreboard"
      ],
      "execution_count": null,
      "outputs": []
    },
    {
      "cell_type": "code",
      "metadata": {
        "id": "_b5ovicE16V0"
      },
      "source": [
        "### PESAN GAME OVER\n",
        "final_msg = HTML(\"<h1 style='color:green'>You Win</h1>\")\n",
        "final_msg"
      ],
      "execution_count": null,
      "outputs": []
    },
    {
      "cell_type": "code",
      "metadata": {
        "id": "GXTEslfk2JLf"
      },
      "source": [
        "## Membuat Game Box \n",
        "game_box = VBox([HBox([scoreboard, final_msg]),btns])\n",
        "\n",
        "game_box"
      ],
      "execution_count": null,
      "outputs": []
    },
    {
      "cell_type": "code",
      "metadata": {
        "id": "Nt_LrwfN8GaR"
      },
      "source": [
        "final_msg.layout.visibility = 'hidden'"
      ],
      "execution_count": 45,
      "outputs": []
    },
    {
      "cell_type": "markdown",
      "metadata": {
        "id": "D2gNsXOR2s9W"
      },
      "source": [
        "** FUNGSI UPDATE GAME**\n",
        "\n",
        "FUNGSI INI YAITU FUNGSI MATEMATIS PROBABILITAS UNTUK BOT AGAR DAPAT MENEBAK JAWABAN DARI USER. \n",
        "\n",
        "KITA AKAN MEMBUAT SEBUAH FUNGSI UNTUK MELAKUKAN UPDATE SETELAH SETIAP KALI KITA MEMILIH ANGKA. YANG AKAN DILAKUKAN ADALAH : \n",
        "1. KOMPUTER AKAN MENEBAK ANGKA YANG KITA PILIH DARI RIWAYAT PILIHAN KITA SEBELUMNYA. \n",
        "2. MENAMBAHKAN 1 PADA SCORE KOMPUTER JIKA KITA MENEBAK ANGKA DENGAN TEPAT. DAN MENAMBAHKAN 1 PADA ANDA JIKA TEBAKAN SALAH. \n",
        "3. STOP PERMAINAN SAAT SALAH SATU SUDAH MENANG. "
      ]
    },
    {
      "cell_type": "code",
      "metadata": {
        "id": "j8alzaZg3YqH"
      },
      "source": [
        "## membuat sebuah variabel array untuk menampung nilai dari user\n",
        "usr_history = []"
      ],
      "execution_count": 48,
      "outputs": []
    },
    {
      "cell_type": "code",
      "metadata": {
        "id": "3Q66gG6E0vci"
      },
      "source": [
        "###MEMBUAT FUNGSI UNTUK TOMBOL 0\n",
        "def click_zero(b):\n",
        "    update_game(0)\n",
        "btn_zero.on_click( click_zero )"
      ],
      "execution_count": 9,
      "outputs": []
    },
    {
      "cell_type": "code",
      "metadata": {
        "id": "MnPXZCqW1Cx8"
      },
      "source": [
        "## MEMBUAT FUNGSI UNTUK TOMBOL 1\n",
        "def click_one(b):\n",
        "    update_game(1)\n",
        "btn_one.on_click( click_one )"
      ],
      "execution_count": 10,
      "outputs": []
    },
    {
      "cell_type": "code",
      "metadata": {
        "id": "96kjkKwE1STW"
      },
      "source": [
        "def update_game(usr_choice):\n",
        "  prob = sum(usr_history)/len(usr_history)\n",
        "  comp_choice = np.random.binomial(1, prob, 1)[0]\n",
        "  usr_history.append(usr_choice)\n",
        "\n",
        "  if comp_choice == usr_choice:\n",
        "    bot_score.value +=1\n",
        "  else:\n",
        "    usr_score.value +=1\n",
        "\n",
        "  if usr_score.value == 30 or bot_score.value == 30:\n",
        "    if bot_score.value == 30:\n",
        "      final_msg.value = \"<h1 style='color:red'> You Lose</h1>\"\n",
        "    final_msg.layout.visibility = \"visible\"\n",
        "    btn_zero.disabled=True\n",
        "    btn_one.disabled=True\n",
        "  return"
      ],
      "execution_count": 58,
      "outputs": []
    },
    {
      "cell_type": "code",
      "metadata": {
        "id": "9aIpsCcN78b7"
      },
      "source": [
        "usr_history.append(1)"
      ],
      "execution_count": 50,
      "outputs": []
    },
    {
      "cell_type": "code",
      "metadata": {
        "id": "al_uAJZY8Uz9"
      },
      "source": [
        "usr_history.append(0)"
      ],
      "execution_count": 51,
      "outputs": []
    },
    {
      "cell_type": "code",
      "metadata": {
        "colab": {
          "base_uri": "https://localhost:8080/"
        },
        "id": "WqZktd5q8W7J",
        "outputId": "79acbdfd-6478-4ec3-a449-0450ff8f0318"
      },
      "source": [
        "sum(usr_history)"
      ],
      "execution_count": 53,
      "outputs": [
        {
          "output_type": "execute_result",
          "data": {
            "text/plain": [
              "1"
            ]
          },
          "metadata": {
            "tags": []
          },
          "execution_count": 53
        }
      ]
    },
    {
      "cell_type": "code",
      "metadata": {
        "colab": {
          "base_uri": "https://localhost:8080/"
        },
        "id": "X7-5C6-W8Ymf",
        "outputId": "50fc91cf-c165-4cbb-c49f-4ff7434d7415"
      },
      "source": [
        "len(usr_history)"
      ],
      "execution_count": 52,
      "outputs": [
        {
          "output_type": "execute_result",
          "data": {
            "text/plain": [
              "2"
            ]
          },
          "metadata": {
            "tags": []
          },
          "execution_count": 52
        }
      ]
    },
    {
      "cell_type": "code",
      "metadata": {
        "colab": {
          "base_uri": "https://localhost:8080/"
        },
        "id": "pyT0UgCC8atG",
        "outputId": "264cf3dc-1207-4481-bb0b-fbd4517ef2d3"
      },
      "source": [
        "prob = sum(usr_history)/len(usr_history)\n",
        "prob"
      ],
      "execution_count": 54,
      "outputs": [
        {
          "output_type": "execute_result",
          "data": {
            "text/plain": [
              "0.5"
            ]
          },
          "metadata": {
            "tags": []
          },
          "execution_count": 54
        }
      ]
    },
    {
      "cell_type": "code",
      "metadata": {
        "colab": {
          "base_uri": "https://localhost:8080/"
        },
        "id": "1Bxrlpyb8Mug",
        "outputId": "ca9a78f7-2b37-456c-ccb6-36a7950b6150"
      },
      "source": [
        "comp_choice = np.random.binomial(1,prob)\n",
        "comp_choice"
      ],
      "execution_count": 55,
      "outputs": [
        {
          "output_type": "execute_result",
          "data": {
            "text/plain": [
              "0"
            ]
          },
          "metadata": {
            "tags": []
          },
          "execution_count": 55
        }
      ]
    },
    {
      "cell_type": "code",
      "metadata": {
        "id": "iLsZWVNy7ZlO"
      },
      "source": [
        "display (game_box)"
      ],
      "execution_count": null,
      "outputs": []
    }
  ]
}