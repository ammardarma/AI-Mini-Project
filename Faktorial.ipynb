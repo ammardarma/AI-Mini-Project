{
  "nbformat": 4,
  "nbformat_minor": 0,
  "metadata": {
    "colab": {
      "name": "Faktorial.ipynb",
      "provenance": []
    },
    "kernelspec": {
      "name": "python3",
      "display_name": "Python 3"
    }
  },
  "cells": [
    {
      "cell_type": "code",
      "metadata": {
        "colab": {
          "base_uri": "https://localhost:8080/"
        },
        "id": "A8SLuaBCsBNB",
        "outputId": "a5277e8b-eb8f-4a57-fe90-15071a24d26f"
      },
      "source": [
        "def faktorial(n):\r\n",
        "  a = 1\r\n",
        "  for i in range(1, n+1):\r\n",
        "    a*=i\r\n",
        "    if i == n:\r\n",
        "      print(i, end=\" = \")\r\n",
        "    else:\r\n",
        "      print(i, end=\"*\")\r\n",
        "  return a\r\n",
        "\r\n",
        "fak = int(input(\"Masukkan jumlah faktorial : \"))\r\n",
        "print(faktorial(fak))\r\n",
        "\r\n"
      ],
      "execution_count": 2,
      "outputs": [
        {
          "output_type": "stream",
          "text": [
            "Masukkan jumlah faktorial : 5\n",
            "1*2*3*4*5 = 120\n"
          ],
          "name": "stdout"
        }
      ]
    }
  ]
}