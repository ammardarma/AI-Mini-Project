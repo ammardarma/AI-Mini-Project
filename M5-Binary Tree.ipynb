{
 "cells": [
  {
   "cell_type": "code",
   "execution_count": null,
   "id": "ec1b9613",
   "metadata": {},
   "outputs": [],
   "source": [
    "MENGIMPORT LIBRARY BINARY TREE"
   ]
  },
  {
   "cell_type": "code",
   "execution_count": 1,
   "id": "8dc4d890",
   "metadata": {},
   "outputs": [],
   "source": [
    "from binarytree import build"
   ]
  },
  {
   "cell_type": "code",
   "execution_count": null,
   "id": "a7b0d774",
   "metadata": {},
   "outputs": [],
   "source": [
    "Mendefinisikan Node yang akan dibuat menjadi Tree"
   ]
  },
  {
   "cell_type": "code",
   "execution_count": 2,
   "id": "ffa3413c",
   "metadata": {},
   "outputs": [],
   "source": [
    "# List of nodes\n",
    "nodes =[3, 6, 8, 2, 11, None, 13]"
   ]
  },
  {
   "cell_type": "code",
   "execution_count": null,
   "id": "721ae401",
   "metadata": {},
   "outputs": [],
   "source": [
    "memasukkan nodes ke dalam binary tree dan membentuk binary tree"
   ]
  },
  {
   "cell_type": "code",
   "execution_count": 3,
   "id": "f33cd8f5",
   "metadata": {},
   "outputs": [
    {
     "name": "stdout",
     "output_type": "stream",
     "text": [
      "Binary tree from list :\n",
      " \n",
      "    ___3\n",
      "   /    \\\n",
      "  6      8\n",
      " / \\      \\\n",
      "2   11     13\n",
      "\n"
     ]
    }
   ],
   "source": [
    "binary_tree = build(nodes)\n",
    "print('Binary tree from list :\\n',\n",
    "      binary_tree)"
   ]
  },
  {
   "cell_type": "code",
   "execution_count": null,
   "id": "43a44c61",
   "metadata": {},
   "outputs": [],
   "source": [
    "Menampilkan isi/node dari binary tree"
   ]
  },
  {
   "cell_type": "code",
   "execution_count": 4,
   "id": "774a4dc4",
   "metadata": {},
   "outputs": [
    {
     "name": "stdout",
     "output_type": "stream",
     "text": [
      "\n",
      "List from binary tree : [3, 6, 8, 2, 11, None, 13]\n"
     ]
    }
   ],
   "source": [
    "# Getting list of nodes from\n",
    "# binarytree\n",
    "print('\\nList from binary tree :',\n",
    "      binary_tree.values)"
   ]
  },
  {
   "cell_type": "code",
   "execution_count": null,
   "id": "013a8449",
   "metadata": {},
   "outputs": [],
   "source": []
  },
  {
   "cell_type": "code",
   "execution_count": null,
   "id": "bfafab43",
   "metadata": {},
   "outputs": [],
   "source": []
  }
 ],
 "metadata": {
  "kernelspec": {
   "display_name": "Python 3 (ipykernel)",
   "language": "python",
   "name": "python3"
  },
  "language_info": {
   "codemirror_mode": {
    "name": "ipython",
    "version": 3
   },
   "file_extension": ".py",
   "mimetype": "text/x-python",
   "name": "python",
   "nbconvert_exporter": "python",
   "pygments_lexer": "ipython3",
   "version": "3.9.7"
  }
 },
 "nbformat": 4,
 "nbformat_minor": 5
}
