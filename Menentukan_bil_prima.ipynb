{
  "nbformat": 4,
  "nbformat_minor": 0,
  "metadata": {
    "colab": {
      "name": "Menentukan bil.prima.ipynb",
      "provenance": []
    },
    "kernelspec": {
      "name": "python3",
      "display_name": "Python 3"
    }
  },
  "cells": [
    {
      "cell_type": "code",
      "metadata": {
        "colab": {
          "base_uri": "https://localhost:8080/"
        },
        "id": "iiWqzL_PV0nb",
        "outputId": "62d089d1-7792-43d7-c0ec-e630c0f9802b"
      },
      "source": [
        "print(\"MENENTUKAN BILANGAN PRIMA\")\r\n",
        "\r\n",
        "bilangan = int(input(\"Masukkan bilangan : \"))\r\n",
        "\r\n",
        "if bilangan>1:\r\n",
        "  for i in range(2, bilangan):\r\n",
        "    if (bilangan % i) == 0:\r\n",
        "      print(\"Bilangan tersebut bukan bilangan prima!\")\r\n",
        "      break\r\n",
        "  else:\r\n",
        "    print(bilangan, \"merupakan bilangan prima\")\r\n",
        "      \r\n",
        "else: \r\n",
        "  print(\"Masukkan angka lebih besar dari 1\")"
      ],
      "execution_count": 7,
      "outputs": [
        {
          "output_type": "stream",
          "text": [
            "MENENTUKAN BILANGAN PRIMA\n",
            "Masukkan bilangan : 23\n",
            "23 merupakan bilangan prima\n"
          ],
          "name": "stdout"
        }
      ]
    }
  ]
}