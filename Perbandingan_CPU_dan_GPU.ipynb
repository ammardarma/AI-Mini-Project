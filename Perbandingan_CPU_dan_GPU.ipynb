{
  "nbformat": 4,
  "nbformat_minor": 0,
  "metadata": {
    "colab": {
      "name": "Perbandingan CPU dan GPU.ipynb",
      "provenance": [],
      "collapsed_sections": []
    },
    "kernelspec": {
      "name": "python3",
      "display_name": "Python 3"
    }
  },
  "cells": [
    {
      "cell_type": "code",
      "metadata": {
        "colab": {
          "base_uri": "https://localhost:8080/"
        },
        "id": "Sj4gkEm1b4Dj",
        "outputId": "f3121995-0c43-4de5-cd64-cbef30e04792"
      },
      "source": [
        "!pip install cupy"
      ],
      "execution_count": 112,
      "outputs": [
        {
          "output_type": "stream",
          "text": [
            "Collecting cupy\n",
            "\u001b[?25l  Downloading https://files.pythonhosted.org/packages/14/2a/ef289e429be9021fab32f2a480a023efacb3cc9ff5e9496d788e98537c92/cupy-8.5.0.tar.gz (1.3MB)\n",
            "\u001b[K     |████████████████████████████████| 1.3MB 11.4MB/s \n",
            "\u001b[?25hRequirement already satisfied: numpy>=1.15 in /usr/local/lib/python3.7/dist-packages (from cupy) (1.19.5)\n",
            "Requirement already satisfied: fastrlock>=0.3 in /usr/local/lib/python3.7/dist-packages (from cupy) (0.5)\n",
            "Building wheels for collected packages: cupy\n",
            "  Building wheel for cupy (setup.py) ... \u001b[?25l\u001b[?25hcanceled\n",
            "\u001b[31mERROR: Operation cancelled by user\u001b[0m\n"
          ],
          "name": "stdout"
        }
      ]
    },
    {
      "cell_type": "code",
      "metadata": {
        "id": "r1_Q8LdDb_eU"
      },
      "source": [
        "import numpy as np\r\n",
        "import cupy as cp\r\n",
        "import time\r\n"
      ],
      "execution_count": null,
      "outputs": []
    },
    {
      "cell_type": "code",
      "metadata": {
        "id": "ZkZeHnz_cHVk"
      },
      "source": [
        "##numpy dan CPU\r\n",
        "s = time.time()\r\n",
        "x_cpu = np.ones((1000,1000,1000))\r\n",
        "e = time.time()\r\n",
        "print(\"Waktu yang diperlukan untuk CPU : \", e - s)"
      ],
      "execution_count": null,
      "outputs": []
    },
    {
      "cell_type": "code",
      "metadata": {
        "id": "V13AcCHfcX6U"
      },
      "source": [
        "##numpy dan GPU \r\n",
        "s = time.time()\r\n",
        "x_gpu = cp.ones((1000,1000,1000))\r\n",
        "cp.cuda.Stream.null.synchronize()\r\n",
        "e = time.time()\r\n",
        "print(\"Waktu yang diperlukan untuk GPU : \", e - s)"
      ],
      "execution_count": null,
      "outputs": []
    },
    {
      "cell_type": "code",
      "metadata": {
        "id": "Wi4BXyX7cr7P"
      },
      "source": [
        "## nilai yang akan dikalikan dengan array\r\n",
        "n = 5 \r\n"
      ],
      "execution_count": null,
      "outputs": []
    },
    {
      "cell_type": "code",
      "metadata": {
        "id": "uYym8f9nc0b3"
      },
      "source": [
        "##numpy dan CPU\r\n",
        "s = time.time()\r\n",
        "x_cpu*=n\r\n",
        "e = time.time()\r\n",
        "print(\"Waktu yang diperlukan untuk CPU : \", e - s)"
      ],
      "execution_count": null,
      "outputs": []
    },
    {
      "cell_type": "code",
      "metadata": {
        "id": "cMOs1UNqc4-p"
      },
      "source": [
        "##numpy dan GPU \r\n",
        "s = time.time()\r\n",
        "x_gpu*=n\r\n",
        "cp.cuda.Stream.null.synchronize()\r\n",
        "e = time.time()\r\n",
        "print(\"Waktu yang diperlukan untuk GPU : \", e - s)"
      ],
      "execution_count": null,
      "outputs": []
    }
  ]
}