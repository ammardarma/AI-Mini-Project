{
  "nbformat": 4,
  "nbformat_minor": 0,
  "metadata": {
    "colab": {
      "name": "fibonacci.ipynb",
      "provenance": []
    },
    "kernelspec": {
      "name": "python3",
      "display_name": "Python 3"
    }
  },
  "cells": [
    {
      "cell_type": "code",
      "metadata": {
        "id": "3kiECfQzNzFB",
        "outputId": "14bfe67a-eb21-4d30-9439-a210fb573268",
        "colab": {
          "base_uri": "https://localhost:8080/"
        }
      },
      "source": [
        "def fibonaacci(n):\r\n",
        "  a=0\r\n",
        "  b=1 \r\n",
        "  for i in range(1,n+1):\r\n",
        "    if i!=n:\r\n",
        "      print(a, end=', ')\r\n",
        "      c=a+b\r\n",
        "      a=b\r\n",
        "      b=c\r\n",
        "    else:\r\n",
        "      return a\r\n",
        "    \r\n",
        "input = int(input(\"Masukkan jumlah deret fibonnaci : \"))\r\n",
        "print(fibonaacci(input))"
      ],
      "execution_count": 1,
      "outputs": [
        {
          "output_type": "stream",
          "text": [
            "Masukkan jumlah deret fibonnaci : 10\n",
            "0, 1, 1, 2, 3, 5, 8, 13, 21, 34\n"
          ],
          "name": "stdout"
        }
      ]
    }
  ]
}