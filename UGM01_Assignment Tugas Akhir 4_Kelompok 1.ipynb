{
  "nbformat": 4,
  "nbformat_minor": 0,
  "metadata": {
    "colab": {
      "name": "Cuaca.ipynb",
      "provenance": [],
      "collapsed_sections": [],
      "toc_visible": true
    },
    "kernelspec": {
      "name": "python3",
      "display_name": "Python 3"
    },
    "language_info": {
      "name": "python"
    }
  },
  "cells": [
    {
      "cell_type": "markdown",
      "metadata": {
        "id": "wlLQ47SBJW-1"
      },
      "source": [
        "**Nama Peserta:**\n",
        "\n",
        "* Ammar Ridwan Darma \n",
        "* Alif Adwitiya Pratama\n",
        "* Nur Imam Masri\n",
        "\n",
        "**Universitas Host:**\n",
        "\n",
        "Universitas Gajah Mada\n",
        "\n",
        "\n",
        "**Kelas:**\n",
        "\n",
        "UGM-01\n",
        "\n",
        "\n",
        "**Kelompok:** 1\n",
        "\n",
        "\n",
        "**Tema Project Kelompok:**  \n",
        "\n",
        "Iklim Cuaca"
      ]
    },
    {
      "cell_type": "markdown",
      "metadata": {
        "id": "Ux82wInP95Wg"
      },
      "source": [
        "# **import libraries**"
      ]
    },
    {
      "cell_type": "code",
      "metadata": {
        "id": "Qomv9XbWWQbT"
      },
      "source": [
        "import numpy as np \n",
        "import pandas as pd \n",
        "import matplotlib.pyplot as plt \n",
        "import seaborn as sns\n",
        "\n",
        "# import Library SelectKBest\n",
        "from sklearn.feature_selection import SelectKBest\n",
        "\n",
        "# import Library chi kuadrat/squared\n",
        "from sklearn.feature_selection import chi2"
      ],
      "execution_count": null,
      "outputs": []
    },
    {
      "cell_type": "code",
      "metadata": {
        "id": "DFWela_L_K6W"
      },
      "source": [
        "plt.style.use('seaborn')"
      ],
      "execution_count": null,
      "outputs": []
    },
    {
      "cell_type": "markdown",
      "metadata": {
        "id": "jZqtuhIh_OOY"
      },
      "source": [
        "# **Data Loading**\n",
        "\n",
        "\n",
        "[Data Prakiraan Cuaca Wilayah Provinsi DKI Jakarta Tahun 2018](https://data.jakarta.go.id/dataset/data-prakiraan-cuaca-wilayah-provinsi-dki-jakarta-tahun-2018)\n",
        "\n",
        "[Data Prakiraan Cuaca Wilayah Provinsi DKI Jakarta Tahun 2017](https://data.jakarta.go.id/dataset/data-prakiraan-cuaca-wilayah-provinsi-dki-jakarta-tahun-2017)\n",
        "\n",
        "\n",
        "### **Attribute Information**\n",
        "\n",
        "Dataset ini berisi Prakiraan Cuaca di Wilayah Provinsi DKI Jakarta tiap bulannya pada Tahun 2018.\n",
        "\n",
        "Penjelasan mengenai variabel pada dataset ini :\n",
        "\n",
        "1. tanggal.\n",
        "2. wilayah\n",
        "3. waktu.\n",
        "4. cuaca\n",
        "5. kelembaban_persen,\n",
        "6. suhu_derajat_celcius\n",
        "\n",
        "**Metadata :**\n",
        "\n",
        "* Terakhir Diperbarui : 21 Januari 2019\n",
        "* Dibuat : 30 Januari 2018\n",
        "* Sumber : BPBD DKI Jakarta\n",
        "* Frekuensi Penerbitan : 1 Bulan Sekali\n",
        "* Tahun : 2018\n",
        "* Cakupan : Provinsi\n",
        "* Penyajian : Wilayah\n",
        "* Kontak : bpbddki@jakarta.go.id 021-3521623"
      ]
    },
    {
      "cell_type": "code",
      "metadata": {
        "colab": {
          "base_uri": "https://localhost:8080/"
        },
        "id": "vdUqzpCSHgGE",
        "outputId": "f38396c7-12de-430d-fc7b-b68d716da79a"
      },
      "source": [
        "from google.colab import drive\n",
        "drive.mount('/content/drive')"
      ],
      "execution_count": null,
      "outputs": [
        {
          "output_type": "stream",
          "name": "stdout",
          "text": [
            "Mounted at /content/drive\n"
          ]
        }
      ]
    },
    {
      "cell_type": "code",
      "metadata": {
        "colab": {
          "base_uri": "https://localhost:8080/"
        },
        "id": "_PXGWwWiIhcP",
        "outputId": "6a35f5a3-f0d1-419f-d2d5-358e5ef90fa6"
      },
      "source": [
        "%cd \"/content/drive/Shareddrives/Microcredential data team 1\""
      ],
      "execution_count": null,
      "outputs": [
        {
          "output_type": "stream",
          "name": "stdout",
          "text": [
            "/content/drive/Shareddrives/Microcredential data team 1\n"
          ]
        }
      ]
    },
    {
      "cell_type": "code",
      "metadata": {
        "colab": {
          "base_uri": "https://localhost:8080/",
          "height": 206
        },
        "id": "K7p0TPxy-PQl",
        "outputId": "d70a0274-ec11-4318-bfd7-5fc66282be71"
      },
      "source": [
        "# Data Prakiraan Cuaca Wilayah Provinsi DKI Jakarta Tahun 2018 dan 2017\n",
        "df =pd.read_excel('cuaca2017-2018.xlsx', usecols=['tanggal', 'wilayah', 'waktu', 'cuaca',\n",
        "       'kelembaban_persen', 'suhu_derajat_celcius', 'BanyakKotaRawan'])\n",
        "df.head(5)"
      ],
      "execution_count": null,
      "outputs": [
        {
          "output_type": "execute_result",
          "data": {
            "text/html": [
              "<div>\n",
              "<style scoped>\n",
              "    .dataframe tbody tr th:only-of-type {\n",
              "        vertical-align: middle;\n",
              "    }\n",
              "\n",
              "    .dataframe tbody tr th {\n",
              "        vertical-align: top;\n",
              "    }\n",
              "\n",
              "    .dataframe thead th {\n",
              "        text-align: right;\n",
              "    }\n",
              "</style>\n",
              "<table border=\"1\" class=\"dataframe\">\n",
              "  <thead>\n",
              "    <tr style=\"text-align: right;\">\n",
              "      <th></th>\n",
              "      <th>tanggal</th>\n",
              "      <th>wilayah</th>\n",
              "      <th>waktu</th>\n",
              "      <th>cuaca</th>\n",
              "      <th>kelembaban_persen</th>\n",
              "      <th>suhu_derajat_celcius</th>\n",
              "      <th>BanyakKotaRawan</th>\n",
              "    </tr>\n",
              "  </thead>\n",
              "  <tbody>\n",
              "    <tr>\n",
              "      <th>0</th>\n",
              "      <td>2017-01-03</td>\n",
              "      <td>Jakarta Pusat</td>\n",
              "      <td>Pagi</td>\n",
              "      <td>Hujan Ringan</td>\n",
              "      <td>65 - 95</td>\n",
              "      <td>22 - 31</td>\n",
              "      <td>2</td>\n",
              "    </tr>\n",
              "    <tr>\n",
              "      <th>1</th>\n",
              "      <td>2017-01-03</td>\n",
              "      <td>Kepulauan Seribu</td>\n",
              "      <td>Malam</td>\n",
              "      <td>Hujan Ringan</td>\n",
              "      <td>65 - 95</td>\n",
              "      <td>22 - 31</td>\n",
              "      <td>0</td>\n",
              "    </tr>\n",
              "    <tr>\n",
              "      <th>2</th>\n",
              "      <td>2017-01-03</td>\n",
              "      <td>Jakarta Timur</td>\n",
              "      <td>Malam</td>\n",
              "      <td>Hujan Ringan</td>\n",
              "      <td>65 - 95</td>\n",
              "      <td>22 - 31</td>\n",
              "      <td>23</td>\n",
              "    </tr>\n",
              "    <tr>\n",
              "      <th>3</th>\n",
              "      <td>2017-01-03</td>\n",
              "      <td>Jakarta Barat</td>\n",
              "      <td>Malam</td>\n",
              "      <td>Hujan Ringan</td>\n",
              "      <td>65 - 95</td>\n",
              "      <td>22 - 31</td>\n",
              "      <td>17</td>\n",
              "    </tr>\n",
              "    <tr>\n",
              "      <th>4</th>\n",
              "      <td>2017-01-03</td>\n",
              "      <td>Jakarta Selatan</td>\n",
              "      <td>Malam</td>\n",
              "      <td>Hujan Ringan</td>\n",
              "      <td>65 - 95</td>\n",
              "      <td>22 - 31</td>\n",
              "      <td>25</td>\n",
              "    </tr>\n",
              "  </tbody>\n",
              "</table>\n",
              "</div>"
            ],
            "text/plain": [
              "     tanggal           wilayah  ... suhu_derajat_celcius BanyakKotaRawan\n",
              "0 2017-01-03     Jakarta Pusat  ...              22 - 31               2\n",
              "1 2017-01-03  Kepulauan Seribu  ...              22 - 31               0\n",
              "2 2017-01-03     Jakarta Timur  ...              22 - 31              23\n",
              "3 2017-01-03     Jakarta Barat  ...              22 - 31              17\n",
              "4 2017-01-03   Jakarta Selatan  ...              22 - 31              25\n",
              "\n",
              "[5 rows x 7 columns]"
            ]
          },
          "metadata": {},
          "execution_count": 39
        }
      ]
    },
    {
      "cell_type": "markdown",
      "metadata": {
        "id": "X3aaCSq4CQX8"
      },
      "source": [
        "Ada 14652 baris data yang berarti ada 14652 cuaca tiap saat\n",
        "\n",
        "7 kolom yang berarti 7 columns (Features)"
      ]
    },
    {
      "cell_type": "code",
      "metadata": {
        "colab": {
          "base_uri": "https://localhost:8080/"
        },
        "id": "xd5Wc--0A3Kb",
        "outputId": "9f1f9742-ecaf-41d2-beb4-a641ab4f2ad1"
      },
      "source": [
        "# the shape of data\n",
        "print('Total Row:', df.shape[0])\n",
        "print('Total Columns:', df.shape[1])\n",
        "df.shape"
      ],
      "execution_count": null,
      "outputs": [
        {
          "output_type": "stream",
          "name": "stdout",
          "text": [
            "Total Row: 14652\n",
            "Total Columns: 7\n"
          ]
        },
        {
          "output_type": "execute_result",
          "data": {
            "text/plain": [
              "(14652, 7)"
            ]
          },
          "metadata": {},
          "execution_count": 40
        }
      ]
    },
    {
      "cell_type": "code",
      "metadata": {
        "colab": {
          "base_uri": "https://localhost:8080/"
        },
        "id": "S_3PNCWaBk1Z",
        "outputId": "e011b009-9923-46e8-8135-c96404c1029b"
      },
      "source": [
        "# get the columns\n",
        "df.columns"
      ],
      "execution_count": null,
      "outputs": [
        {
          "output_type": "execute_result",
          "data": {
            "text/plain": [
              "Index(['tanggal', 'wilayah', 'waktu', 'cuaca', 'kelembaban_persen',\n",
              "       'suhu_derajat_celcius', 'BanyakKotaRawan'],\n",
              "      dtype='object')"
            ]
          },
          "metadata": {},
          "execution_count": 41
        }
      ]
    },
    {
      "cell_type": "markdown",
      "metadata": {
        "id": "b2dogn2cYpuH"
      },
      "source": [
        "## **Wilayah**"
      ]
    },
    {
      "cell_type": "markdown",
      "metadata": {
        "id": "WsAL9xHuU9Yo"
      },
      "source": [
        "**Daftar Tiap Wilayah di Provinsi DKI Jakarta**"
      ]
    },
    {
      "cell_type": "code",
      "metadata": {
        "colab": {
          "base_uri": "https://localhost:8080/"
        },
        "id": "2xQWqcFxRc6B",
        "outputId": "33fdb15c-53f3-4a5c-a555-949d64d7aff2"
      },
      "source": [
        "np.unique(df['wilayah'])"
      ],
      "execution_count": null,
      "outputs": [
        {
          "output_type": "execute_result",
          "data": {
            "text/plain": [
              "array(['Jakarta Barat', 'Jakarta Pusat', 'Jakarta Selatan',\n",
              "       'Jakarta Timur', 'Jakarta Utara', 'Kepulauan Seribu'], dtype=object)"
            ]
          },
          "metadata": {},
          "execution_count": 42
        }
      ]
    },
    {
      "cell_type": "markdown",
      "metadata": {
        "id": "KxQbVtCWYv-F"
      },
      "source": [
        "## **Cuaca**"
      ]
    },
    {
      "cell_type": "markdown",
      "metadata": {
        "id": "gKvr_vCFVK_G"
      },
      "source": [
        "**Daftar Cuaca Tiap Wilayah di Provinsi DKI Jakarta**"
      ]
    },
    {
      "cell_type": "code",
      "metadata": {
        "colab": {
          "base_uri": "https://localhost:8080/"
        },
        "id": "vDav9ZsOVK_H",
        "outputId": "6a82f9f5-0925-4fab-c5fc-d64fe11cd3e2"
      },
      "source": [
        "np.unique(df['cuaca'])"
      ],
      "execution_count": null,
      "outputs": [
        {
          "output_type": "execute_result",
          "data": {
            "text/plain": [
              "array(['Beawan', 'Berawa', 'Berawan', 'Berawan Sedang', 'Berawan Teba',\n",
              "       'Berawan Tebal', 'Berawan tebal', 'Cerah', 'Cerah Berawah',\n",
              "       'Cerah Berawan', 'Cerah Berawn', 'Cerah berawan', 'Cerang Berawan',\n",
              "       'Hujan', 'Hujan Loka', 'Hujan Lokal', 'Hujan Petir',\n",
              "       'Hujan RIngan', 'Hujan Ringan', 'Hujan Ringanl', 'Hujan Sedang',\n",
              "       'Hujang Sedang', 'Udara Kabur'], dtype=object)"
            ]
          },
          "metadata": {},
          "execution_count": 43
        }
      ]
    },
    {
      "cell_type": "code",
      "metadata": {
        "id": "k0M6zxTlZoBN"
      },
      "source": [
        "df[(df['cuaca']==\"Beawan\") | (df['cuaca']==\"Berawa\")] = \"Berawan\"\n",
        "df[(df['cuaca']==\"Berawan Teba\") | (df['cuaca']==\"Berawan tebal\")] = \"Berawan Tebal\"\n",
        "df[\n",
        "   (df['cuaca']==\"Cerang Berawah\") | \n",
        "   (df['cuaca']==\"Cerah Berawn\") | \n",
        "   (df['cuaca']==\"Cerah berawan\") |\n",
        "   (df['cuaca']==\"Cerah Berawah\") | \n",
        "   (df['cuaca']==\"Cerang Berawan\")\n",
        "   ] = \"Cerah Berawan\"\n",
        "\n",
        "df[(df['cuaca']==\"Hujan Loka\")] = \"Hujan Lokal\"\n",
        "df[(df['cuaca']==\"Hujan RIngan\") | (df['cuaca']==\"Hujan Ringanl\")] = \"Hujan Ringan\"\n",
        "df[(df['cuaca']==\"Hujang Sedang\")] = \"Hujan Sedang\""
      ],
      "execution_count": null,
      "outputs": []
    },
    {
      "cell_type": "code",
      "metadata": {
        "colab": {
          "base_uri": "https://localhost:8080/"
        },
        "id": "-gzaAnTfdPNK",
        "outputId": "b02f1ad9-3485-43ba-8ec1-d798ae78464b"
      },
      "source": [
        "np.unique(df['cuaca'])"
      ],
      "execution_count": null,
      "outputs": [
        {
          "output_type": "execute_result",
          "data": {
            "text/plain": [
              "array(['Berawan', 'Berawan Sedang', 'Berawan Tebal', 'Cerah',\n",
              "       'Cerah Berawan', 'Hujan', 'Hujan Lokal', 'Hujan Petir',\n",
              "       'Hujan Ringan', 'Hujan Sedang', 'Udara Kabur'], dtype=object)"
            ]
          },
          "metadata": {},
          "execution_count": 45
        }
      ]
    },
    {
      "cell_type": "markdown",
      "metadata": {
        "id": "J_pF-IRvYyRJ"
      },
      "source": [
        "## **Persen Kelembapan**"
      ]
    },
    {
      "cell_type": "markdown",
      "metadata": {
        "id": "4c2FX59HWAhE"
      },
      "source": [
        "**Daftar Persen Kelembapan Tiap Wilayah di Provinsi DKI Jakarta**"
      ]
    },
    {
      "cell_type": "code",
      "metadata": {
        "colab": {
          "base_uri": "https://localhost:8080/"
        },
        "id": "sLkE-8_1WAhF",
        "outputId": "9d04e5a9-4f0e-4412-de9c-461aa3a9921f"
      },
      "source": [
        "np.unique(df['kelembaban_persen'])"
      ],
      "execution_count": null,
      "outputs": [
        {
          "output_type": "execute_result",
          "data": {
            "text/plain": [
              "array(['35 – 75', '35 – 80', '40 - 70', '40 – 75', '40 – 80', '40 – 85',\n",
              "       '40 – 90', '40 – 95', '45 - 80', '45 – 75', '45 – 80', '45 – 85',\n",
              "       '45 – 90', '50 - 75', '50 - 80', '50 - 92', '50 – 80', '50 – 85',\n",
              "       '50 – 90', '50 – 95', '55 - 100', '55 - 75', '55 - 80', '55 - 85',\n",
              "       '55 - 90', '55 - 95', '55 – 80', '55 – 85', '55 – 90', '55 – 95',\n",
              "       '55-85%', '60 - 100', '60 - 80', '60 - 85', '60 - 90', '60 - 95',\n",
              "       '60 – 100', '60 – 80', '60 – 85', '60 – 90', '60 – 95', '60-90%',\n",
              "       '60-95%', '65 - 100', '65 - 80', '65 - 85', '65 - 90', '65 - 95',\n",
              "       '65 - 97', '65 – 100', '65 – 85', '65 – 90', '65 – 95', '65-100%',\n",
              "       '65-90%', '65-95%', '70 - 100', '70 - 85', '70 - 90', '70 - 95',\n",
              "       '70 – 100', '70 – 80', '70 – 90', '70 – 95', '70-95%', '75 - 100',\n",
              "       '75 - 85', '75 - 90', '75 - 95', '75 – 100', '75 – 95', '75-90%',\n",
              "       '75-95%', '80 - 100', '80 - 90', '80 - 95', '80 – 100', '80 – 95',\n",
              "       '80-100%', '80-95%', '85 - 100', '85 - 90', '85 - 95', '85 – 100',\n",
              "       '85 – 95', '90 - 95', '95 - 95', 'Berawan', 'Berawan Tebal',\n",
              "       'Cerah Berawan', 'Hujan Lokal', 'Hujan Ringan', 'Hujan Sedang'],\n",
              "      dtype=object)"
            ]
          },
          "metadata": {},
          "execution_count": 46
        }
      ]
    },
    {
      "cell_type": "code",
      "metadata": {
        "id": "UVKpiI__dk7Z"
      },
      "source": [
        "selection = df['kelembaban_persen'].str.contains('%', regex=True)\n",
        "df.loc[selection, 'kelembaban_persen'] = df.loc[selection, 'kelembaban_persen'].map(lambda x: x.replace(\"%\", \"\"))"
      ],
      "execution_count": null,
      "outputs": []
    },
    {
      "cell_type": "code",
      "metadata": {
        "id": "JswoD2SoibPh"
      },
      "source": [
        "selection02 = df['kelembaban_persen'].str.contains(' – ', regex=True)\n",
        "df.loc[selection02, 'kelembaban_persen'] = df.loc[selection02, 'kelembaban_persen'].map(lambda x: x.replace(\" – \", \"-\"))"
      ],
      "execution_count": null,
      "outputs": []
    },
    {
      "cell_type": "code",
      "metadata": {
        "id": "j5YTE6d2jQ6X"
      },
      "source": [
        "selection03 = df['kelembaban_persen'].str.contains(' - ', regex=True)\n",
        "df.loc[selection03, 'kelembaban_persen'] = df.loc[selection03, 'kelembaban_persen'].map(lambda x: x.replace(\" - \", \"-\"))"
      ],
      "execution_count": null,
      "outputs": []
    },
    {
      "cell_type": "code",
      "metadata": {
        "colab": {
          "base_uri": "https://localhost:8080/"
        },
        "id": "x1wp7pROd9bh",
        "outputId": "bd9851e6-1e00-4a04-abab-8f0168ae09ac"
      },
      "source": [
        "np.unique(df['kelembaban_persen'])"
      ],
      "execution_count": null,
      "outputs": [
        {
          "output_type": "execute_result",
          "data": {
            "text/plain": [
              "array(['35-75', '35-80', '40-70', '40-75', '40-80', '40-85', '40-90',\n",
              "       '40-95', '45-75', '45-80', '45-85', '45-90', '50-75', '50-80',\n",
              "       '50-85', '50-90', '50-92', '50-95', '55-100', '55-75', '55-80',\n",
              "       '55-85', '55-90', '55-95', '60-100', '60-80', '60-85', '60-90',\n",
              "       '60-95', '65-100', '65-80', '65-85', '65-90', '65-95', '65-97',\n",
              "       '70-100', '70-80', '70-85', '70-90', '70-95', '75-100', '75-85',\n",
              "       '75-90', '75-95', '80-100', '80-90', '80-95', '85-100', '85-90',\n",
              "       '85-95', '90-95', '95-95', 'Berawan', 'Berawan Tebal',\n",
              "       'Cerah Berawan', 'Hujan Lokal', 'Hujan Ringan', 'Hujan Sedang'],\n",
              "      dtype=object)"
            ]
          },
          "metadata": {},
          "execution_count": 51
        }
      ]
    },
    {
      "cell_type": "code",
      "metadata": {
        "id": "0hyjYm4ah-J6"
      },
      "source": [
        "trash = ['Berawan', 'Berawan Tebal', 'Cerah Berawan', 'Hujan Lokal', 'Hujan Ringan', 'Hujan Sedang']\n",
        "for x in trash :\n",
        "  df.drop(df.loc[df['kelembaban_persen']==x].index, inplace=True)"
      ],
      "execution_count": null,
      "outputs": []
    },
    {
      "cell_type": "code",
      "metadata": {
        "colab": {
          "base_uri": "https://localhost:8080/"
        },
        "id": "42voSuQniUYC",
        "outputId": "f212b988-e519-4c0f-a62b-8cbd03847c1b"
      },
      "source": [
        "np.unique(df['kelembaban_persen'])"
      ],
      "execution_count": null,
      "outputs": [
        {
          "output_type": "execute_result",
          "data": {
            "text/plain": [
              "array(['35-75', '35-80', '40-70', '40-75', '40-80', '40-85', '40-90',\n",
              "       '40-95', '45-75', '45-80', '45-85', '45-90', '50-75', '50-80',\n",
              "       '50-85', '50-90', '50-92', '50-95', '55-100', '55-75', '55-80',\n",
              "       '55-85', '55-90', '55-95', '60-100', '60-80', '60-85', '60-90',\n",
              "       '60-95', '65-100', '65-80', '65-85', '65-90', '65-95', '65-97',\n",
              "       '70-100', '70-80', '70-85', '70-90', '70-95', '75-100', '75-85',\n",
              "       '75-90', '75-95', '80-100', '80-90', '80-95', '85-100', '85-90',\n",
              "       '85-95', '90-95', '95-95'], dtype=object)"
            ]
          },
          "metadata": {},
          "execution_count": 53
        }
      ]
    },
    {
      "cell_type": "markdown",
      "metadata": {
        "id": "ICcpdpzvY4NL"
      },
      "source": [
        "## **Suhu Derajat Celcius**"
      ]
    },
    {
      "cell_type": "markdown",
      "metadata": {
        "id": "Fjf24G7aWosn"
      },
      "source": [
        "**Daftar Suhu Derajat Celcius Tiap Wilayah di Provinsi DKI Jakarta**"
      ]
    },
    {
      "cell_type": "code",
      "metadata": {
        "colab": {
          "base_uri": "https://localhost:8080/"
        },
        "id": "Vx9zcgFTWoso",
        "outputId": "4c7b4aff-463f-4997-831b-95ff43596136"
      },
      "source": [
        "np.unique(df['suhu_derajat_celcius'])"
      ],
      "execution_count": null,
      "outputs": [
        {
          "output_type": "execute_result",
          "data": {
            "text/plain": [
              "array(['20 – 34', '21 - 32', '21 - 33', '21 - 34', '21 – 33', '21 – 34',\n",
              "       '22 - 31', '22 - 32', '22 - 33', '22 – 30', '22 – 32', '22 – 33',\n",
              "       '22 – 34', '22 – 35', '23 - 31', '23 - 32', '23 - 33', '23 - 34',\n",
              "       '23 – 28', '23 – 29', '23 – 30', '23 – 31', '23 – 32', '23 – 33',\n",
              "       '23 – 34', '23 – 35', '23-29°', '23-30°', '23-31°', '23-32°',\n",
              "       '23-33°', '24 - 28', '24 - 29', '24 - 30', '24 - 31', '24 - 32',\n",
              "       '24 - 33', '24 - 34', '24 – 28', '24 – 29', '24 – 30', '24 – 31',\n",
              "       '24 – 32', '24 – 33', '24 – 34', '24 – 35', '24-32°', '24-33°',\n",
              "       '24-34°', '25 - 31', '25 - 32', '25 - 33', '25 - 34', '25 – 30',\n",
              "       '25 – 31', '25 – 32', '25 – 33', '25 – 34', '25 – 35', '26 - 32',\n",
              "       '26 - 33', '26 - 34', '26 – 32', '26 – 33', '27 - 29', '27 - 32'],\n",
              "      dtype=object)"
            ]
          },
          "metadata": {},
          "execution_count": 47
        }
      ]
    },
    {
      "cell_type": "code",
      "metadata": {
        "id": "p02cawmCjcEd"
      },
      "source": [
        "selection = df['suhu_derajat_celcius'].str.contains('°', regex=True)\n",
        "df.loc[selection, 'suhu_derajat_celcius'] = df.loc[selection, 'suhu_derajat_celcius'].map(lambda x: x.replace(\"°\", \"\"))"
      ],
      "execution_count": null,
      "outputs": []
    },
    {
      "cell_type": "code",
      "metadata": {
        "id": "MIF_K8s9jcEe"
      },
      "source": [
        "selection02 = df['suhu_derajat_celcius'].str.contains(' – ', regex=True)\n",
        "df.loc[selection02, 'suhu_derajat_celcius'] = df.loc[selection02, 'suhu_derajat_celcius'].map(lambda x: x.replace(\" – \", \"-\"))"
      ],
      "execution_count": null,
      "outputs": []
    },
    {
      "cell_type": "code",
      "metadata": {
        "id": "d6moO2GHjcEf"
      },
      "source": [
        "selection03 = df['suhu_derajat_celcius'].str.contains(' - ', regex=True)\n",
        "df.loc[selection03, 'suhu_derajat_celcius'] = df.loc[selection03, 'suhu_derajat_celcius'].map(lambda x: x.replace(\" - \", \"-\"))"
      ],
      "execution_count": null,
      "outputs": []
    },
    {
      "cell_type": "code",
      "metadata": {
        "colab": {
          "base_uri": "https://localhost:8080/"
        },
        "id": "BNZdp4oujcEf",
        "outputId": "e2503ef2-b439-4794-fc79-ec921ce7e4ae"
      },
      "source": [
        "np.unique(df['suhu_derajat_celcius'])"
      ],
      "execution_count": null,
      "outputs": [
        {
          "output_type": "execute_result",
          "data": {
            "text/plain": [
              "array(['20-34', '21-32', '21-33', '21-34', '22-30', '22-31', '22-32',\n",
              "       '22-33', '22-34', '22-35', '23-28', '23-29', '23-30', '23-31',\n",
              "       '23-32', '23-33', '23-34', '23-35', '24-28', '24-29', '24-30',\n",
              "       '24-31', '24-32', '24-33', '24-34', '24-35', '25-30', '25-31',\n",
              "       '25-32', '25-33', '25-34', '25-35', '26-32', '26-33', '26-34',\n",
              "       '27-29', '27-32'], dtype=object)"
            ]
          },
          "metadata": {},
          "execution_count": 57
        }
      ]
    },
    {
      "cell_type": "markdown",
      "metadata": {
        "id": "BKQYh95XZX17"
      },
      "source": [
        "## **Banyak Kota Rawan**"
      ]
    },
    {
      "cell_type": "markdown",
      "metadata": {
        "id": "Gg_lxc_zW1va"
      },
      "source": [
        "**Daftar Suhu Derajat Celcius Tiap Wilayah di Provinsi DKI Jakarta**"
      ]
    },
    {
      "cell_type": "code",
      "metadata": {
        "id": "T4iOwpgjkCuY"
      },
      "source": [
        "df['BanyakKotaRawan']=df.BanyakKotaRawan.astype('int64')"
      ],
      "execution_count": null,
      "outputs": []
    },
    {
      "cell_type": "code",
      "metadata": {
        "colab": {
          "base_uri": "https://localhost:8080/"
        },
        "id": "vjH4RDXGW1va",
        "outputId": "d293a378-bfb9-4058-8af9-df705f54a3dd"
      },
      "source": [
        "np.unique(df['BanyakKotaRawan'])"
      ],
      "execution_count": null,
      "outputs": [
        {
          "output_type": "execute_result",
          "data": {
            "text/plain": [
              "array([ 0,  2, 15, 17, 23, 25])"
            ]
          },
          "metadata": {},
          "execution_count": 68
        }
      ]
    },
    {
      "cell_type": "code",
      "metadata": {
        "colab": {
          "base_uri": "https://localhost:8080/",
          "height": 363
        },
        "id": "k8iGRqR6jtWQ",
        "outputId": "c7525471-d961-456e-aaa4-5c14a64cf222"
      },
      "source": [
        "df.head(10)"
      ],
      "execution_count": null,
      "outputs": [
        {
          "output_type": "execute_result",
          "data": {
            "text/html": [
              "<div>\n",
              "<style scoped>\n",
              "    .dataframe tbody tr th:only-of-type {\n",
              "        vertical-align: middle;\n",
              "    }\n",
              "\n",
              "    .dataframe tbody tr th {\n",
              "        vertical-align: top;\n",
              "    }\n",
              "\n",
              "    .dataframe thead th {\n",
              "        text-align: right;\n",
              "    }\n",
              "</style>\n",
              "<table border=\"1\" class=\"dataframe\">\n",
              "  <thead>\n",
              "    <tr style=\"text-align: right;\">\n",
              "      <th></th>\n",
              "      <th>tanggal</th>\n",
              "      <th>wilayah</th>\n",
              "      <th>waktu</th>\n",
              "      <th>cuaca</th>\n",
              "      <th>kelembaban_persen</th>\n",
              "      <th>suhu_derajat_celcius</th>\n",
              "      <th>BanyakKotaRawan</th>\n",
              "    </tr>\n",
              "  </thead>\n",
              "  <tbody>\n",
              "    <tr>\n",
              "      <th>0</th>\n",
              "      <td>2017-01-03 00:00:00</td>\n",
              "      <td>Jakarta Pusat</td>\n",
              "      <td>Pagi</td>\n",
              "      <td>Hujan Ringan</td>\n",
              "      <td>65-95</td>\n",
              "      <td>22-31</td>\n",
              "      <td>2</td>\n",
              "    </tr>\n",
              "    <tr>\n",
              "      <th>1</th>\n",
              "      <td>2017-01-03 00:00:00</td>\n",
              "      <td>Kepulauan Seribu</td>\n",
              "      <td>Malam</td>\n",
              "      <td>Hujan Ringan</td>\n",
              "      <td>65-95</td>\n",
              "      <td>22-31</td>\n",
              "      <td>0</td>\n",
              "    </tr>\n",
              "    <tr>\n",
              "      <th>2</th>\n",
              "      <td>2017-01-03 00:00:00</td>\n",
              "      <td>Jakarta Timur</td>\n",
              "      <td>Malam</td>\n",
              "      <td>Hujan Ringan</td>\n",
              "      <td>65-95</td>\n",
              "      <td>22-31</td>\n",
              "      <td>23</td>\n",
              "    </tr>\n",
              "    <tr>\n",
              "      <th>3</th>\n",
              "      <td>2017-01-03 00:00:00</td>\n",
              "      <td>Jakarta Barat</td>\n",
              "      <td>Malam</td>\n",
              "      <td>Hujan Ringan</td>\n",
              "      <td>65-95</td>\n",
              "      <td>22-31</td>\n",
              "      <td>17</td>\n",
              "    </tr>\n",
              "    <tr>\n",
              "      <th>4</th>\n",
              "      <td>2017-01-03 00:00:00</td>\n",
              "      <td>Jakarta Selatan</td>\n",
              "      <td>Malam</td>\n",
              "      <td>Hujan Ringan</td>\n",
              "      <td>65-95</td>\n",
              "      <td>22-31</td>\n",
              "      <td>25</td>\n",
              "    </tr>\n",
              "    <tr>\n",
              "      <th>5</th>\n",
              "      <td>2017-01-03 00:00:00</td>\n",
              "      <td>Jakarta Pusat</td>\n",
              "      <td>Malam</td>\n",
              "      <td>Hujan Ringan</td>\n",
              "      <td>65-95</td>\n",
              "      <td>22-31</td>\n",
              "      <td>2</td>\n",
              "    </tr>\n",
              "    <tr>\n",
              "      <th>6</th>\n",
              "      <td>2017-01-03 00:00:00</td>\n",
              "      <td>Kepulauan Seribu</td>\n",
              "      <td>Siang</td>\n",
              "      <td>Hujan Petir</td>\n",
              "      <td>65-95</td>\n",
              "      <td>22-31</td>\n",
              "      <td>0</td>\n",
              "    </tr>\n",
              "    <tr>\n",
              "      <th>7</th>\n",
              "      <td>2017-01-03 00:00:00</td>\n",
              "      <td>Jakarta Timur</td>\n",
              "      <td>Siang</td>\n",
              "      <td>Hujan Petir</td>\n",
              "      <td>65-95</td>\n",
              "      <td>22-31</td>\n",
              "      <td>23</td>\n",
              "    </tr>\n",
              "    <tr>\n",
              "      <th>8</th>\n",
              "      <td>2017-01-03 00:00:00</td>\n",
              "      <td>Jakarta Barat</td>\n",
              "      <td>Siang</td>\n",
              "      <td>Hujan Petir</td>\n",
              "      <td>65-95</td>\n",
              "      <td>22-31</td>\n",
              "      <td>17</td>\n",
              "    </tr>\n",
              "    <tr>\n",
              "      <th>9</th>\n",
              "      <td>2017-01-03 00:00:00</td>\n",
              "      <td>Jakarta Utara</td>\n",
              "      <td>Malam</td>\n",
              "      <td>Hujan Ringan</td>\n",
              "      <td>65-95</td>\n",
              "      <td>22-31</td>\n",
              "      <td>15</td>\n",
              "    </tr>\n",
              "  </tbody>\n",
              "</table>\n",
              "</div>"
            ],
            "text/plain": [
              "               tanggal           wilayah  ... suhu_derajat_celcius BanyakKotaRawan\n",
              "0  2017-01-03 00:00:00     Jakarta Pusat  ...                22-31               2\n",
              "1  2017-01-03 00:00:00  Kepulauan Seribu  ...                22-31               0\n",
              "2  2017-01-03 00:00:00     Jakarta Timur  ...                22-31              23\n",
              "3  2017-01-03 00:00:00     Jakarta Barat  ...                22-31              17\n",
              "4  2017-01-03 00:00:00   Jakarta Selatan  ...                22-31              25\n",
              "5  2017-01-03 00:00:00     Jakarta Pusat  ...                22-31               2\n",
              "6  2017-01-03 00:00:00  Kepulauan Seribu  ...                22-31               0\n",
              "7  2017-01-03 00:00:00     Jakarta Timur  ...                22-31              23\n",
              "8  2017-01-03 00:00:00     Jakarta Barat  ...                22-31              17\n",
              "9  2017-01-03 00:00:00     Jakarta Utara  ...                22-31              15\n",
              "\n",
              "[10 rows x 7 columns]"
            ]
          },
          "metadata": {},
          "execution_count": 69
        }
      ]
    },
    {
      "cell_type": "markdown",
      "metadata": {
        "id": "noJoUOl8jzSP"
      },
      "source": [
        "# **Data Describe**"
      ]
    },
    {
      "cell_type": "code",
      "metadata": {
        "colab": {
          "base_uri": "https://localhost:8080/"
        },
        "id": "EoO2lPgVCodJ",
        "outputId": "7e188483-5f4e-4ca8-9820-f231a25214e4"
      },
      "source": [
        "# get the info of each columns\n",
        "df.info()"
      ],
      "execution_count": null,
      "outputs": [
        {
          "output_type": "stream",
          "name": "stdout",
          "text": [
            "<class 'pandas.core.frame.DataFrame'>\n",
            "Int64Index: 14638 entries, 0 to 14651\n",
            "Data columns (total 7 columns):\n",
            " #   Column                Non-Null Count  Dtype \n",
            "---  ------                --------------  ----- \n",
            " 0   tanggal               14638 non-null  object\n",
            " 1   wilayah               14638 non-null  object\n",
            " 2   waktu                 14638 non-null  object\n",
            " 3   cuaca                 14638 non-null  object\n",
            " 4   kelembaban_persen     14638 non-null  object\n",
            " 5   suhu_derajat_celcius  14638 non-null  object\n",
            " 6   BanyakKotaRawan       14638 non-null  int64 \n",
            "dtypes: int64(1), object(6)\n",
            "memory usage: 914.9+ KB\n"
          ]
        }
      ]
    },
    {
      "cell_type": "code",
      "metadata": {
        "colab": {
          "base_uri": "https://localhost:8080/",
          "height": 174
        },
        "id": "us5HH0N-kpj7",
        "outputId": "dfc93217-0fb9-4ed6-d748-4015f0bfcb27"
      },
      "source": [
        "df.describe(include=object)"
      ],
      "execution_count": null,
      "outputs": [
        {
          "output_type": "execute_result",
          "data": {
            "text/html": [
              "<div>\n",
              "<style scoped>\n",
              "    .dataframe tbody tr th:only-of-type {\n",
              "        vertical-align: middle;\n",
              "    }\n",
              "\n",
              "    .dataframe tbody tr th {\n",
              "        vertical-align: top;\n",
              "    }\n",
              "\n",
              "    .dataframe thead th {\n",
              "        text-align: right;\n",
              "    }\n",
              "</style>\n",
              "<table border=\"1\" class=\"dataframe\">\n",
              "  <thead>\n",
              "    <tr style=\"text-align: right;\">\n",
              "      <th></th>\n",
              "      <th>tanggal</th>\n",
              "      <th>wilayah</th>\n",
              "      <th>waktu</th>\n",
              "      <th>cuaca</th>\n",
              "      <th>kelembaban_persen</th>\n",
              "      <th>suhu_derajat_celcius</th>\n",
              "    </tr>\n",
              "  </thead>\n",
              "  <tbody>\n",
              "    <tr>\n",
              "      <th>count</th>\n",
              "      <td>14638</td>\n",
              "      <td>14638</td>\n",
              "      <td>14638</td>\n",
              "      <td>14638</td>\n",
              "      <td>14638</td>\n",
              "      <td>14638</td>\n",
              "    </tr>\n",
              "    <tr>\n",
              "      <th>unique</th>\n",
              "      <td>613</td>\n",
              "      <td>6</td>\n",
              "      <td>8</td>\n",
              "      <td>11</td>\n",
              "      <td>52</td>\n",
              "      <td>37</td>\n",
              "    </tr>\n",
              "    <tr>\n",
              "      <th>top</th>\n",
              "      <td>2018-11-11 00:00:00</td>\n",
              "      <td>Jakarta Pusat</td>\n",
              "      <td>Siang</td>\n",
              "      <td>Cerah Berawan</td>\n",
              "      <td>65-95</td>\n",
              "      <td>24-33</td>\n",
              "    </tr>\n",
              "    <tr>\n",
              "      <th>freq</th>\n",
              "      <td>48</td>\n",
              "      <td>2442</td>\n",
              "      <td>3348</td>\n",
              "      <td>5169</td>\n",
              "      <td>1432</td>\n",
              "      <td>2847</td>\n",
              "    </tr>\n",
              "  </tbody>\n",
              "</table>\n",
              "</div>"
            ],
            "text/plain": [
              "                    tanggal  ... suhu_derajat_celcius\n",
              "count                 14638  ...                14638\n",
              "unique                  613  ...                   37\n",
              "top     2018-11-11 00:00:00  ...                24-33\n",
              "freq                     48  ...                 2847\n",
              "\n",
              "[4 rows x 6 columns]"
            ]
          },
          "metadata": {},
          "execution_count": 72
        }
      ]
    },
    {
      "cell_type": "code",
      "metadata": {
        "colab": {
          "base_uri": "https://localhost:8080/",
          "height": 300
        },
        "id": "IaZMbOhmC2h-",
        "outputId": "1886a6e4-2078-4156-f5d6-c432a9856a73"
      },
      "source": [
        "df.describe()"
      ],
      "execution_count": null,
      "outputs": [
        {
          "output_type": "execute_result",
          "data": {
            "text/html": [
              "<div>\n",
              "<style scoped>\n",
              "    .dataframe tbody tr th:only-of-type {\n",
              "        vertical-align: middle;\n",
              "    }\n",
              "\n",
              "    .dataframe tbody tr th {\n",
              "        vertical-align: top;\n",
              "    }\n",
              "\n",
              "    .dataframe thead th {\n",
              "        text-align: right;\n",
              "    }\n",
              "</style>\n",
              "<table border=\"1\" class=\"dataframe\">\n",
              "  <thead>\n",
              "    <tr style=\"text-align: right;\">\n",
              "      <th></th>\n",
              "      <th>BanyakKotaRawan</th>\n",
              "    </tr>\n",
              "  </thead>\n",
              "  <tbody>\n",
              "    <tr>\n",
              "      <th>count</th>\n",
              "      <td>14638.000000</td>\n",
              "    </tr>\n",
              "    <tr>\n",
              "      <th>mean</th>\n",
              "      <td>13.661361</td>\n",
              "    </tr>\n",
              "    <tr>\n",
              "      <th>std</th>\n",
              "      <td>9.587090</td>\n",
              "    </tr>\n",
              "    <tr>\n",
              "      <th>min</th>\n",
              "      <td>0.000000</td>\n",
              "    </tr>\n",
              "    <tr>\n",
              "      <th>25%</th>\n",
              "      <td>2.000000</td>\n",
              "    </tr>\n",
              "    <tr>\n",
              "      <th>50%</th>\n",
              "      <td>15.000000</td>\n",
              "    </tr>\n",
              "    <tr>\n",
              "      <th>75%</th>\n",
              "      <td>23.000000</td>\n",
              "    </tr>\n",
              "    <tr>\n",
              "      <th>max</th>\n",
              "      <td>25.000000</td>\n",
              "    </tr>\n",
              "  </tbody>\n",
              "</table>\n",
              "</div>"
            ],
            "text/plain": [
              "       BanyakKotaRawan\n",
              "count     14638.000000\n",
              "mean         13.661361\n",
              "std           9.587090\n",
              "min           0.000000\n",
              "25%           2.000000\n",
              "50%          15.000000\n",
              "75%          23.000000\n",
              "max          25.000000"
            ]
          },
          "metadata": {},
          "execution_count": 71
        }
      ]
    },
    {
      "cell_type": "code",
      "metadata": {
        "colab": {
          "base_uri": "https://localhost:8080/",
          "height": 426
        },
        "id": "3STksaj-RlZE",
        "outputId": "4f990364-521c-45ae-cfd8-9c94f57978fb"
      },
      "source": [
        "df.groupby('cuaca').mean()"
      ],
      "execution_count": null,
      "outputs": [
        {
          "output_type": "execute_result",
          "data": {
            "text/html": [
              "<div>\n",
              "<style scoped>\n",
              "    .dataframe tbody tr th:only-of-type {\n",
              "        vertical-align: middle;\n",
              "    }\n",
              "\n",
              "    .dataframe tbody tr th {\n",
              "        vertical-align: top;\n",
              "    }\n",
              "\n",
              "    .dataframe thead th {\n",
              "        text-align: right;\n",
              "    }\n",
              "</style>\n",
              "<table border=\"1\" class=\"dataframe\">\n",
              "  <thead>\n",
              "    <tr style=\"text-align: right;\">\n",
              "      <th></th>\n",
              "      <th>BanyakKotaRawan</th>\n",
              "    </tr>\n",
              "    <tr>\n",
              "      <th>cuaca</th>\n",
              "      <th></th>\n",
              "    </tr>\n",
              "  </thead>\n",
              "  <tbody>\n",
              "    <tr>\n",
              "      <th>Berawan</th>\n",
              "      <td>13.910234</td>\n",
              "    </tr>\n",
              "    <tr>\n",
              "      <th>Berawan Sedang</th>\n",
              "      <td>0.000000</td>\n",
              "    </tr>\n",
              "    <tr>\n",
              "      <th>Berawan Tebal</th>\n",
              "      <td>13.937500</td>\n",
              "    </tr>\n",
              "    <tr>\n",
              "      <th>Cerah</th>\n",
              "      <td>11.113030</td>\n",
              "    </tr>\n",
              "    <tr>\n",
              "      <th>Cerah Berawan</th>\n",
              "      <td>13.458696</td>\n",
              "    </tr>\n",
              "    <tr>\n",
              "      <th>Hujan</th>\n",
              "      <td>22.333333</td>\n",
              "    </tr>\n",
              "    <tr>\n",
              "      <th>Hujan Lokal</th>\n",
              "      <td>13.307573</td>\n",
              "    </tr>\n",
              "    <tr>\n",
              "      <th>Hujan Petir</th>\n",
              "      <td>17.068966</td>\n",
              "    </tr>\n",
              "    <tr>\n",
              "      <th>Hujan Ringan</th>\n",
              "      <td>13.652397</td>\n",
              "    </tr>\n",
              "    <tr>\n",
              "      <th>Hujan Sedang</th>\n",
              "      <td>15.707547</td>\n",
              "    </tr>\n",
              "    <tr>\n",
              "      <th>Udara Kabur</th>\n",
              "      <td>18.222222</td>\n",
              "    </tr>\n",
              "  </tbody>\n",
              "</table>\n",
              "</div>"
            ],
            "text/plain": [
              "                BanyakKotaRawan\n",
              "cuaca                          \n",
              "Berawan               13.910234\n",
              "Berawan Sedang         0.000000\n",
              "Berawan Tebal         13.937500\n",
              "Cerah                 11.113030\n",
              "Cerah Berawan         13.458696\n",
              "Hujan                 22.333333\n",
              "Hujan Lokal           13.307573\n",
              "Hujan Petir           17.068966\n",
              "Hujan Ringan          13.652397\n",
              "Hujan Sedang          15.707547\n",
              "Udara Kabur           18.222222"
            ]
          },
          "metadata": {},
          "execution_count": 73
        }
      ]
    },
    {
      "cell_type": "markdown",
      "metadata": {
        "id": "0xL2-ZWpDSdE"
      },
      "source": [
        "# **Data Preprocessing - Missing Value**"
      ]
    },
    {
      "cell_type": "markdown",
      "metadata": {
        "id": "goxek8ERCb5Y"
      },
      "source": [
        "Lanjutkan preprosing data dan hitung semua kolom yang berisi missing value (NaN, NAN, na). \n",
        "\n",
        "Dapat dilihat bahwa pada column 'Unnamed: 32', yang berisi 569 missing value (jumlah baris yang sama dalam kumpulan data, sehingga column ini tidak berguna dalam kasus ini)"
      ]
    },
    {
      "cell_type": "code",
      "metadata": {
        "colab": {
          "base_uri": "https://localhost:8080/"
        },
        "id": "FrTIBtLYCyTQ",
        "outputId": "10e8ad12-9b73-4f10-8c2a-a88cfd4d4f4d"
      },
      "source": [
        "df.isnull().any()"
      ],
      "execution_count": null,
      "outputs": [
        {
          "output_type": "execute_result",
          "data": {
            "text/plain": [
              "tanggal                 False\n",
              "wilayah                 False\n",
              "waktu                   False\n",
              "cuaca                   False\n",
              "kelembaban_persen       False\n",
              "suhu_derajat_celcius    False\n",
              "BanyakKotaRawan         False\n",
              "dtype: bool"
            ]
          },
          "metadata": {},
          "execution_count": 74
        }
      ]
    },
    {
      "cell_type": "code",
      "metadata": {
        "colab": {
          "base_uri": "https://localhost:8080/"
        },
        "id": "cZHixPHfDuCw",
        "outputId": "3276cf80-8f81-4fd7-d1b6-e4478317308c"
      },
      "source": [
        "df.isna().sum()"
      ],
      "execution_count": null,
      "outputs": [
        {
          "output_type": "execute_result",
          "data": {
            "text/plain": [
              "tanggal                 0\n",
              "wilayah                 0\n",
              "waktu                   0\n",
              "cuaca                   0\n",
              "kelembaban_persen       0\n",
              "suhu_derajat_celcius    0\n",
              "BanyakKotaRawan         0\n",
              "dtype: int64"
            ]
          },
          "metadata": {},
          "execution_count": 75
        }
      ]
    },
    {
      "cell_type": "code",
      "metadata": {
        "id": "5aSewpG9D3Sv"
      },
      "source": [
        "df = df.dropna(axis=1)"
      ],
      "execution_count": null,
      "outputs": []
    },
    {
      "cell_type": "markdown",
      "metadata": {
        "id": "qY0E-jJSD5Mz"
      },
      "source": [
        "Mengecek kembali shape dataset"
      ]
    },
    {
      "cell_type": "code",
      "metadata": {
        "colab": {
          "base_uri": "https://localhost:8080/"
        },
        "id": "wElE79fcD7Vd",
        "outputId": "2b2ffb6b-dd9c-472d-e88d-f52e038ad753"
      },
      "source": [
        "df.shape"
      ],
      "execution_count": null,
      "outputs": [
        {
          "output_type": "execute_result",
          "data": {
            "text/plain": [
              "(14638, 7)"
            ]
          },
          "metadata": {},
          "execution_count": 77
        }
      ]
    },
    {
      "cell_type": "markdown",
      "metadata": {
        "id": "I7gOlcSQPX7R"
      },
      "source": [
        "Selain itu untuk kolom `tanggal` tidak berpengaruh pada pengujian. Sehingga kita buang."
      ]
    },
    {
      "cell_type": "code",
      "metadata": {
        "id": "9Y1fBuBZPfxs"
      },
      "source": [
        "df = df.drop(['tanggal'], axis=1)"
      ],
      "execution_count": null,
      "outputs": []
    },
    {
      "cell_type": "markdown",
      "metadata": {
        "id": "yjf4t3C1DDjB"
      },
      "source": [
        "# **Data Visualization**"
      ]
    },
    {
      "cell_type": "code",
      "metadata": {
        "colab": {
          "base_uri": "https://localhost:8080/",
          "height": 206
        },
        "id": "MQKzCya2mSKc",
        "outputId": "fd3fb6e4-3d41-45b8-e2fa-215bcb255a79"
      },
      "source": [
        "df.head(5)"
      ],
      "execution_count": null,
      "outputs": [
        {
          "output_type": "execute_result",
          "data": {
            "text/html": [
              "<div>\n",
              "<style scoped>\n",
              "    .dataframe tbody tr th:only-of-type {\n",
              "        vertical-align: middle;\n",
              "    }\n",
              "\n",
              "    .dataframe tbody tr th {\n",
              "        vertical-align: top;\n",
              "    }\n",
              "\n",
              "    .dataframe thead th {\n",
              "        text-align: right;\n",
              "    }\n",
              "</style>\n",
              "<table border=\"1\" class=\"dataframe\">\n",
              "  <thead>\n",
              "    <tr style=\"text-align: right;\">\n",
              "      <th></th>\n",
              "      <th>wilayah</th>\n",
              "      <th>waktu</th>\n",
              "      <th>cuaca</th>\n",
              "      <th>kelembaban_persen</th>\n",
              "      <th>suhu_derajat_celcius</th>\n",
              "      <th>BanyakKotaRawan</th>\n",
              "    </tr>\n",
              "  </thead>\n",
              "  <tbody>\n",
              "    <tr>\n",
              "      <th>0</th>\n",
              "      <td>Jakarta Pusat</td>\n",
              "      <td>Pagi</td>\n",
              "      <td>Hujan Ringan</td>\n",
              "      <td>65-95</td>\n",
              "      <td>22-31</td>\n",
              "      <td>2</td>\n",
              "    </tr>\n",
              "    <tr>\n",
              "      <th>1</th>\n",
              "      <td>Kepulauan Seribu</td>\n",
              "      <td>Malam</td>\n",
              "      <td>Hujan Ringan</td>\n",
              "      <td>65-95</td>\n",
              "      <td>22-31</td>\n",
              "      <td>0</td>\n",
              "    </tr>\n",
              "    <tr>\n",
              "      <th>2</th>\n",
              "      <td>Jakarta Timur</td>\n",
              "      <td>Malam</td>\n",
              "      <td>Hujan Ringan</td>\n",
              "      <td>65-95</td>\n",
              "      <td>22-31</td>\n",
              "      <td>23</td>\n",
              "    </tr>\n",
              "    <tr>\n",
              "      <th>3</th>\n",
              "      <td>Jakarta Barat</td>\n",
              "      <td>Malam</td>\n",
              "      <td>Hujan Ringan</td>\n",
              "      <td>65-95</td>\n",
              "      <td>22-31</td>\n",
              "      <td>17</td>\n",
              "    </tr>\n",
              "    <tr>\n",
              "      <th>4</th>\n",
              "      <td>Jakarta Selatan</td>\n",
              "      <td>Malam</td>\n",
              "      <td>Hujan Ringan</td>\n",
              "      <td>65-95</td>\n",
              "      <td>22-31</td>\n",
              "      <td>25</td>\n",
              "    </tr>\n",
              "  </tbody>\n",
              "</table>\n",
              "</div>"
            ],
            "text/plain": [
              "            wilayah  waktu  ... suhu_derajat_celcius BanyakKotaRawan\n",
              "0     Jakarta Pusat   Pagi  ...                22-31               2\n",
              "1  Kepulauan Seribu  Malam  ...                22-31               0\n",
              "2     Jakarta Timur  Malam  ...                22-31              23\n",
              "3     Jakarta Barat  Malam  ...                22-31              17\n",
              "4   Jakarta Selatan  Malam  ...                22-31              25\n",
              "\n",
              "[5 rows x 6 columns]"
            ]
          },
          "metadata": {},
          "execution_count": 85
        }
      ]
    },
    {
      "cell_type": "markdown",
      "metadata": {
        "id": "gm0TYr91EfhD"
      },
      "source": [
        "**Visualisasi banyak cuaca per data**"
      ]
    },
    {
      "cell_type": "code",
      "metadata": {
        "colab": {
          "base_uri": "https://localhost:8080/"
        },
        "id": "cJ0G_aRNEiPw",
        "outputId": "45ed75ec-8c83-4ca9-9dc6-d35d3b81b2fd"
      },
      "source": [
        "# Jumlah  data per cuaca\n",
        "df['cuaca'].value_counts()"
      ],
      "execution_count": null,
      "outputs": [
        {
          "output_type": "execute_result",
          "data": {
            "text/plain": [
              "Cerah Berawan     5169\n",
              "Berawan           4055\n",
              "Hujan Lokal       1928\n",
              "Hujan Ringan      1168\n",
              "Berawan Tebal      896\n",
              "Cerah              637\n",
              "Hujan Sedang       424\n",
              "Hujan Petir        348\n",
              "Udara Kabur          9\n",
              "Hujan                3\n",
              "Berawan Sedang       1\n",
              "Name: cuaca, dtype: int64"
            ]
          },
          "metadata": {},
          "execution_count": 95
        }
      ]
    },
    {
      "cell_type": "code",
      "metadata": {
        "colab": {
          "base_uri": "https://localhost:8080/",
          "height": 428
        },
        "id": "-18jlIu4nnTz",
        "outputId": "10cb2c47-053d-4a27-b06c-77f9db0ccc34"
      },
      "source": [
        "df_cuaca = df['cuaca'].value_counts()\n",
        "x_coords = np.arange(len(list(df_cuaca.index)))\n",
        "plt.bar(x_coords, list(df_cuaca.values), tick_label=list(df_cuaca.index))\n",
        "plt.xticks(rotation=90)\n",
        "plt.ylabel('Jumlah')\n",
        "plt.title('Jumlah Cuaca')\n",
        "plt.show()"
      ],
      "execution_count": null,
      "outputs": [
        {
          "output_type": "display_data",
          "data": {
            "image/png": "[encoded data removed]",
            "text/plain": [
              "<Figure size 576x396 with 1 Axes>"
            ]
          },
          "metadata": {}
        }
      ]
    },
    {
      "cell_type": "code",
      "metadata": {
        "colab": {
          "base_uri": "https://localhost:8080/",
          "height": 442
        },
        "id": "_C88b-PrODTp",
        "outputId": "8f0c4e34-c5b9-4d9a-cf9c-822ae8d80a83"
      },
      "source": [
        "sns.boxplot(data=df, x='cuaca', y='BanyakKotaRawan')\n",
        "plt.ylabel(\"Banyak Kota Rawan\")\n",
        "plt.xlabel(\"Cuaca\")\n",
        "plt.title('Cuaca vs Banyak Kota Rawan')\n",
        "plt.xticks(rotation=90)\n",
        "plt.show()"
      ],
      "execution_count": null,
      "outputs": [
        {
          "output_type": "display_data",
          "data": {
            "image/png": "[encoded data removed]",
            "text/plain": [
              "<Figure size 576x396 with 1 Axes>"
            ]
          },
          "metadata": {}
        }
      ]
    },
    {
      "cell_type": "markdown",
      "metadata": {
        "id": "s9MkTBjjQ6Nk"
      },
      "source": [
        "# **Data Preprocessing - Handling Categorical Values**\n",
        "\n",
        "Lihat tipe data untuk melihat kolom mana yang perlu ditransformasikan / encode. \n",
        "\n",
        "Dapat dilihat dari tipe datanya bahwa semua columns / features adalah object kecuali untuk kolom 'BanyakKotaRawan', yang merupakan data numerical"
      ]
    },
    {
      "cell_type": "code",
      "metadata": {
        "colab": {
          "base_uri": "https://localhost:8080/"
        },
        "id": "pgOglzzrRPQ7",
        "outputId": "ac73ce52-1b88-40a4-f4b0-5a7823669a49"
      },
      "source": [
        "df.dtypes"
      ],
      "execution_count": null,
      "outputs": [
        {
          "output_type": "execute_result",
          "data": {
            "text/plain": [
              "wilayah                 object\n",
              "waktu                   object\n",
              "cuaca                   object\n",
              "kelembaban_persen       object\n",
              "suhu_derajat_celcius    object\n",
              "BanyakKotaRawan          int64\n",
              "dtype: object"
            ]
          },
          "metadata": {},
          "execution_count": 108
        }
      ]
    },
    {
      "cell_type": "markdown",
      "metadata": {
        "id": "zvyvXrgcVTyN"
      },
      "source": [
        "Encode data kategorikal dengan mengubah nilai di 'diagnosis' masing-masing dari M dan B menjadi 1 dan 0."
      ]
    },
    {
      "cell_type": "code",
      "metadata": {
        "id": "xtnzTaaOjXn9"
      },
      "source": [
        "from sklearn.preprocessing import LabelEncoder"
      ],
      "execution_count": null,
      "outputs": []
    },
    {
      "cell_type": "code",
      "metadata": {
        "id": "LBuOEFY2jhet"
      },
      "source": [
        "le = LabelEncoder()"
      ],
      "execution_count": null,
      "outputs": []
    },
    {
      "cell_type": "code",
      "metadata": {
        "colab": {
          "base_uri": "https://localhost:8080/"
        },
        "id": "mdEJb0YoqFHf",
        "outputId": "aba70217-bfd9-4f6d-9888-2d02862f06c7"
      },
      "source": [
        "col_cat = [x for x in df.columns if x != \"BanyakKotaRawan\"]\n",
        "col_cat"
      ],
      "execution_count": null,
      "outputs": [
        {
          "output_type": "execute_result",
          "data": {
            "text/plain": [
              "['wilayah', 'waktu', 'cuaca', 'kelembaban_persen', 'suhu_derajat_celcius']"
            ]
          },
          "metadata": {},
          "execution_count": 114
        }
      ]
    },
    {
      "cell_type": "code",
      "metadata": {
        "colab": {
          "base_uri": "https://localhost:8080/",
          "height": 423
        },
        "id": "t-9-T8ZJjlxs",
        "outputId": "30ea2003-f8e1-47ff-a5e5-dd80af25b7b3"
      },
      "source": [
        "for x in col_cat:\n",
        "  df.loc[:, [x]] = le.fit_transform(df[x])\n",
        "df"
      ],
      "execution_count": null,
      "outputs": [
        {
          "output_type": "execute_result",
          "data": {
            "text/html": [
              "<div>\n",
              "<style scoped>\n",
              "    .dataframe tbody tr th:only-of-type {\n",
              "        vertical-align: middle;\n",
              "    }\n",
              "\n",
              "    .dataframe tbody tr th {\n",
              "        vertical-align: top;\n",
              "    }\n",
              "\n",
              "    .dataframe thead th {\n",
              "        text-align: right;\n",
              "    }\n",
              "</style>\n",
              "<table border=\"1\" class=\"dataframe\">\n",
              "  <thead>\n",
              "    <tr style=\"text-align: right;\">\n",
              "      <th></th>\n",
              "      <th>wilayah</th>\n",
              "      <th>waktu</th>\n",
              "      <th>cuaca</th>\n",
              "      <th>kelembaban_persen</th>\n",
              "      <th>suhu_derajat_celcius</th>\n",
              "      <th>BanyakKotaRawan</th>\n",
              "    </tr>\n",
              "  </thead>\n",
              "  <tbody>\n",
              "    <tr>\n",
              "      <th>0</th>\n",
              "      <td>1</td>\n",
              "      <td>2</td>\n",
              "      <td>8</td>\n",
              "      <td>33</td>\n",
              "      <td>5</td>\n",
              "      <td>2</td>\n",
              "    </tr>\n",
              "    <tr>\n",
              "      <th>1</th>\n",
              "      <td>5</td>\n",
              "      <td>1</td>\n",
              "      <td>8</td>\n",
              "      <td>33</td>\n",
              "      <td>5</td>\n",
              "      <td>0</td>\n",
              "    </tr>\n",
              "    <tr>\n",
              "      <th>2</th>\n",
              "      <td>3</td>\n",
              "      <td>1</td>\n",
              "      <td>8</td>\n",
              "      <td>33</td>\n",
              "      <td>5</td>\n",
              "      <td>23</td>\n",
              "    </tr>\n",
              "    <tr>\n",
              "      <th>3</th>\n",
              "      <td>0</td>\n",
              "      <td>1</td>\n",
              "      <td>8</td>\n",
              "      <td>33</td>\n",
              "      <td>5</td>\n",
              "      <td>17</td>\n",
              "    </tr>\n",
              "    <tr>\n",
              "      <th>4</th>\n",
              "      <td>2</td>\n",
              "      <td>1</td>\n",
              "      <td>8</td>\n",
              "      <td>33</td>\n",
              "      <td>5</td>\n",
              "      <td>25</td>\n",
              "    </tr>\n",
              "    <tr>\n",
              "      <th>...</th>\n",
              "      <td>...</td>\n",
              "      <td>...</td>\n",
              "      <td>...</td>\n",
              "      <td>...</td>\n",
              "      <td>...</td>\n",
              "      <td>...</td>\n",
              "    </tr>\n",
              "    <tr>\n",
              "      <th>14647</th>\n",
              "      <td>2</td>\n",
              "      <td>2</td>\n",
              "      <td>0</td>\n",
              "      <td>38</td>\n",
              "      <td>22</td>\n",
              "      <td>25</td>\n",
              "    </tr>\n",
              "    <tr>\n",
              "      <th>14648</th>\n",
              "      <td>0</td>\n",
              "      <td>2</td>\n",
              "      <td>0</td>\n",
              "      <td>38</td>\n",
              "      <td>22</td>\n",
              "      <td>17</td>\n",
              "    </tr>\n",
              "    <tr>\n",
              "      <th>14649</th>\n",
              "      <td>3</td>\n",
              "      <td>2</td>\n",
              "      <td>0</td>\n",
              "      <td>38</td>\n",
              "      <td>22</td>\n",
              "      <td>23</td>\n",
              "    </tr>\n",
              "    <tr>\n",
              "      <th>14650</th>\n",
              "      <td>0</td>\n",
              "      <td>1</td>\n",
              "      <td>0</td>\n",
              "      <td>38</td>\n",
              "      <td>22</td>\n",
              "      <td>17</td>\n",
              "    </tr>\n",
              "    <tr>\n",
              "      <th>14651</th>\n",
              "      <td>2</td>\n",
              "      <td>3</td>\n",
              "      <td>6</td>\n",
              "      <td>38</td>\n",
              "      <td>22</td>\n",
              "      <td>25</td>\n",
              "    </tr>\n",
              "  </tbody>\n",
              "</table>\n",
              "<p>14638 rows × 6 columns</p>\n",
              "</div>"
            ],
            "text/plain": [
              "       wilayah  waktu  ...  suhu_derajat_celcius  BanyakKotaRawan\n",
              "0            1      2  ...                     5                2\n",
              "1            5      1  ...                     5                0\n",
              "2            3      1  ...                     5               23\n",
              "3            0      1  ...                     5               17\n",
              "4            2      1  ...                     5               25\n",
              "...        ...    ...  ...                   ...              ...\n",
              "14647        2      2  ...                    22               25\n",
              "14648        0      2  ...                    22               17\n",
              "14649        3      2  ...                    22               23\n",
              "14650        0      1  ...                    22               17\n",
              "14651        2      3  ...                    22               25\n",
              "\n",
              "[14638 rows x 6 columns]"
            ]
          },
          "metadata": {},
          "execution_count": 119
        }
      ]
    },
    {
      "cell_type": "code",
      "metadata": {
        "colab": {
          "base_uri": "https://localhost:8080/"
        },
        "id": "b0HYR-BvWXuW",
        "outputId": "e9ce32cf-9e70-433a-d7d0-1440f74be508"
      },
      "source": [
        "np.unique(df[\"cuaca\"])"
      ],
      "execution_count": null,
      "outputs": [
        {
          "output_type": "execute_result",
          "data": {
            "text/plain": [
              "array([ 0,  1,  2,  3,  4,  5,  6,  7,  8,  9, 10])"
            ]
          },
          "metadata": {},
          "execution_count": 121
        }
      ]
    },
    {
      "cell_type": "code",
      "metadata": {
        "colab": {
          "base_uri": "https://localhost:8080/",
          "height": 788
        },
        "id": "KsiVzBXar-8G",
        "outputId": "ee46d2cb-9c70-45f2-897e-9b5e92183543"
      },
      "source": [
        "K = df[col_cat]\n",
        "j = df[\"cuaca\"]\n",
        "\n",
        "# mendapatkan korelasi di setiap fitur dalam dataset\n",
        "corrmat = df.corr()\n",
        "top_corr_features = corrmat.index\n",
        "plt.figure(figsize=(12,12))\n",
        "\n",
        "# plot heatmap\n",
        "h = sns.heatmap(df[top_corr_features].corr(),annot=True,cmap=\"RdYlGn\")"
      ],
      "execution_count": null,
      "outputs": [
        {
          "output_type": "display_data",
          "data": {
            "image/png": "[encoded data removed]",
            "text/plain": [
              "<Figure size 864x864 with 2 Axes>"
            ]
          },
          "metadata": {}
        }
      ]
    },
    {
      "cell_type": "markdown",
      "metadata": {
        "id": "AVc95rIRW6wj"
      },
      "source": [
        "# **Data Preprocessing - Split Data**"
      ]
    },
    {
      "cell_type": "markdown",
      "metadata": {
        "id": "1UNN465luyRP"
      },
      "source": [
        "## **Prepare Feature and Label**\n",
        "\n",
        "Selanjutnya melakukan spli dataset yang terdiri dari :\n",
        "\n",
        "* `feature` data set biasa disebut independent data set (X), yakni columns \n",
        "\n",
        "* `target` data set also known as the dependent data set (Y) "
      ]
    },
    {
      "cell_type": "code",
      "metadata": {
        "id": "trDq4e5QuyRP"
      },
      "source": [
        "X = df.drop(['cuaca'], axis = 1)\n",
        "y = df[['cuaca']]"
      ],
      "execution_count": null,
      "outputs": []
    },
    {
      "cell_type": "code",
      "metadata": {
        "colab": {
          "base_uri": "https://localhost:8080/",
          "height": 423
        },
        "id": "F0PK1Tmulf6_",
        "outputId": "c677f67a-cbda-4278-9d3f-60c5dac52b49"
      },
      "source": [
        "X"
      ],
      "execution_count": null,
      "outputs": [
        {
          "output_type": "execute_result",
          "data": {
            "text/html": [
              "<div>\n",
              "<style scoped>\n",
              "    .dataframe tbody tr th:only-of-type {\n",
              "        vertical-align: middle;\n",
              "    }\n",
              "\n",
              "    .dataframe tbody tr th {\n",
              "        vertical-align: top;\n",
              "    }\n",
              "\n",
              "    .dataframe thead th {\n",
              "        text-align: right;\n",
              "    }\n",
              "</style>\n",
              "<table border=\"1\" class=\"dataframe\">\n",
              "  <thead>\n",
              "    <tr style=\"text-align: right;\">\n",
              "      <th></th>\n",
              "      <th>wilayah</th>\n",
              "      <th>waktu</th>\n",
              "      <th>kelembaban_persen</th>\n",
              "      <th>suhu_derajat_celcius</th>\n",
              "      <th>BanyakKotaRawan</th>\n",
              "    </tr>\n",
              "  </thead>\n",
              "  <tbody>\n",
              "    <tr>\n",
              "      <th>0</th>\n",
              "      <td>1</td>\n",
              "      <td>2</td>\n",
              "      <td>33</td>\n",
              "      <td>5</td>\n",
              "      <td>2</td>\n",
              "    </tr>\n",
              "    <tr>\n",
              "      <th>1</th>\n",
              "      <td>5</td>\n",
              "      <td>1</td>\n",
              "      <td>33</td>\n",
              "      <td>5</td>\n",
              "      <td>0</td>\n",
              "    </tr>\n",
              "    <tr>\n",
              "      <th>2</th>\n",
              "      <td>3</td>\n",
              "      <td>1</td>\n",
              "      <td>33</td>\n",
              "      <td>5</td>\n",
              "      <td>23</td>\n",
              "    </tr>\n",
              "    <tr>\n",
              "      <th>3</th>\n",
              "      <td>0</td>\n",
              "      <td>1</td>\n",
              "      <td>33</td>\n",
              "      <td>5</td>\n",
              "      <td>17</td>\n",
              "    </tr>\n",
              "    <tr>\n",
              "      <th>4</th>\n",
              "      <td>2</td>\n",
              "      <td>1</td>\n",
              "      <td>33</td>\n",
              "      <td>5</td>\n",
              "      <td>25</td>\n",
              "    </tr>\n",
              "    <tr>\n",
              "      <th>...</th>\n",
              "      <td>...</td>\n",
              "      <td>...</td>\n",
              "      <td>...</td>\n",
              "      <td>...</td>\n",
              "      <td>...</td>\n",
              "    </tr>\n",
              "    <tr>\n",
              "      <th>14647</th>\n",
              "      <td>2</td>\n",
              "      <td>2</td>\n",
              "      <td>38</td>\n",
              "      <td>22</td>\n",
              "      <td>25</td>\n",
              "    </tr>\n",
              "    <tr>\n",
              "      <th>14648</th>\n",
              "      <td>0</td>\n",
              "      <td>2</td>\n",
              "      <td>38</td>\n",
              "      <td>22</td>\n",
              "      <td>17</td>\n",
              "    </tr>\n",
              "    <tr>\n",
              "      <th>14649</th>\n",
              "      <td>3</td>\n",
              "      <td>2</td>\n",
              "      <td>38</td>\n",
              "      <td>22</td>\n",
              "      <td>23</td>\n",
              "    </tr>\n",
              "    <tr>\n",
              "      <th>14650</th>\n",
              "      <td>0</td>\n",
              "      <td>1</td>\n",
              "      <td>38</td>\n",
              "      <td>22</td>\n",
              "      <td>17</td>\n",
              "    </tr>\n",
              "    <tr>\n",
              "      <th>14651</th>\n",
              "      <td>2</td>\n",
              "      <td>3</td>\n",
              "      <td>38</td>\n",
              "      <td>22</td>\n",
              "      <td>25</td>\n",
              "    </tr>\n",
              "  </tbody>\n",
              "</table>\n",
              "<p>14638 rows × 5 columns</p>\n",
              "</div>"
            ],
            "text/plain": [
              "       wilayah  waktu  kelembaban_persen  suhu_derajat_celcius  BanyakKotaRawan\n",
              "0            1      2                 33                     5                2\n",
              "1            5      1                 33                     5                0\n",
              "2            3      1                 33                     5               23\n",
              "3            0      1                 33                     5               17\n",
              "4            2      1                 33                     5               25\n",
              "...        ...    ...                ...                   ...              ...\n",
              "14647        2      2                 38                    22               25\n",
              "14648        0      2                 38                    22               17\n",
              "14649        3      2                 38                    22               23\n",
              "14650        0      1                 38                    22               17\n",
              "14651        2      3                 38                    22               25\n",
              "\n",
              "[14638 rows x 5 columns]"
            ]
          },
          "metadata": {},
          "execution_count": 128
        }
      ]
    },
    {
      "cell_type": "code",
      "metadata": {
        "colab": {
          "base_uri": "https://localhost:8080/",
          "height": 423
        },
        "id": "2cZc_CkzliDt",
        "outputId": "972b877a-7f89-4192-923f-1a906dd4f999"
      },
      "source": [
        "y"
      ],
      "execution_count": null,
      "outputs": [
        {
          "output_type": "execute_result",
          "data": {
            "text/html": [
              "<div>\n",
              "<style scoped>\n",
              "    .dataframe tbody tr th:only-of-type {\n",
              "        vertical-align: middle;\n",
              "    }\n",
              "\n",
              "    .dataframe tbody tr th {\n",
              "        vertical-align: top;\n",
              "    }\n",
              "\n",
              "    .dataframe thead th {\n",
              "        text-align: right;\n",
              "    }\n",
              "</style>\n",
              "<table border=\"1\" class=\"dataframe\">\n",
              "  <thead>\n",
              "    <tr style=\"text-align: right;\">\n",
              "      <th></th>\n",
              "      <th>cuaca</th>\n",
              "    </tr>\n",
              "  </thead>\n",
              "  <tbody>\n",
              "    <tr>\n",
              "      <th>0</th>\n",
              "      <td>8</td>\n",
              "    </tr>\n",
              "    <tr>\n",
              "      <th>1</th>\n",
              "      <td>8</td>\n",
              "    </tr>\n",
              "    <tr>\n",
              "      <th>2</th>\n",
              "      <td>8</td>\n",
              "    </tr>\n",
              "    <tr>\n",
              "      <th>3</th>\n",
              "      <td>8</td>\n",
              "    </tr>\n",
              "    <tr>\n",
              "      <th>4</th>\n",
              "      <td>8</td>\n",
              "    </tr>\n",
              "    <tr>\n",
              "      <th>...</th>\n",
              "      <td>...</td>\n",
              "    </tr>\n",
              "    <tr>\n",
              "      <th>14647</th>\n",
              "      <td>0</td>\n",
              "    </tr>\n",
              "    <tr>\n",
              "      <th>14648</th>\n",
              "      <td>0</td>\n",
              "    </tr>\n",
              "    <tr>\n",
              "      <th>14649</th>\n",
              "      <td>0</td>\n",
              "    </tr>\n",
              "    <tr>\n",
              "      <th>14650</th>\n",
              "      <td>0</td>\n",
              "    </tr>\n",
              "    <tr>\n",
              "      <th>14651</th>\n",
              "      <td>6</td>\n",
              "    </tr>\n",
              "  </tbody>\n",
              "</table>\n",
              "<p>14638 rows × 1 columns</p>\n",
              "</div>"
            ],
            "text/plain": [
              "       cuaca\n",
              "0          8\n",
              "1          8\n",
              "2          8\n",
              "3          8\n",
              "4          8\n",
              "...      ...\n",
              "14647      0\n",
              "14648      0\n",
              "14649      0\n",
              "14650      0\n",
              "14651      6\n",
              "\n",
              "[14638 rows x 1 columns]"
            ]
          },
          "metadata": {},
          "execution_count": 129
        }
      ]
    },
    {
      "cell_type": "markdown",
      "metadata": {
        "id": "f9724045"
      },
      "source": [
        "* Aplikasikan library **SelectKBest** untuk mengekstrak fitur terbaik dari dataset"
      ]
    },
    {
      "cell_type": "code",
      "metadata": {
        "id": "d9ca066b"
      },
      "source": [
        "#Apply SelectKBest class to extract\n",
        "bestfeature = SelectKBest(score_func=chi2, k=4)\n",
        "fit = bestfeature.fit(X, y)\n",
        "\n",
        "dfscores = pd.DataFrame(fit.scores_)\n",
        "dfcolums = pd.DataFrame(X.columns)"
      ],
      "execution_count": null,
      "outputs": []
    },
    {
      "cell_type": "markdown",
      "metadata": {
        "id": "4bd6ac43"
      },
      "source": [
        "* lihat hasil score seleksi feature"
      ]
    },
    {
      "cell_type": "code",
      "metadata": {
        "colab": {
          "base_uri": "https://localhost:8080/"
        },
        "id": "7dc2aad7",
        "outputId": "f40754b5-f794-40e8-8d40-d2812b6e4a0e"
      },
      "source": [
        "#gabungkan 2 dataframe tersebut untuk visualisasi yang lebih bagus\n",
        "\n",
        "featureScores = pd.concat([dfcolums, dfscores], axis=1)\n",
        "featureScores.columns = ['Field', 'Score']\n",
        "print(featureScores.nlargest(10,'Score'))"
      ],
      "execution_count": null,
      "outputs": [
        {
          "output_type": "stream",
          "name": "stdout",
          "text": [
            "                  Field         Score\n",
            "2     kelembaban_persen  10291.730036\n",
            "4       BanyakKotaRawan    829.014141\n",
            "3  suhu_derajat_celcius    610.850489\n",
            "1                 waktu    473.073945\n",
            "0               wilayah    102.476566\n"
          ]
        }
      ]
    },
    {
      "cell_type": "markdown",
      "metadata": {
        "id": "56f99a02"
      },
      "source": [
        "### Feature Importance (FT)\n",
        "---\n",
        "FT berfungsi memberi skor untuk setiap fitur data, semakin tinggi skor semakin penting atau relevan fitur tersebut terhadap variabel output\n",
        "\n",
        "FT merupakan kelas inbuilt yang dilengkapi dengan Pengklasifikasi Berbasis Pohon (Tree Based Classifier), kita akan menggunakan Pengklasifikasi Pohon Ekstra untuk\n",
        "mengekstraksi 10 fitur teratas untuk kumpulan data"
      ]
    },
    {
      "cell_type": "markdown",
      "metadata": {
        "id": "4b2ca947"
      },
      "source": [
        "Tujuan dari **ExtraTreesClassifier** adalah untuk menyesuaikan sejumlah pohon keputusan acak ke data, dan dalam hal ini adalah dari pembelajaran ensemble. Khususnya, pemisahan acak dari semua pengamatan dilakukan untuk memastikan bahwa model tidak terlalu cocok dengan data.\n",
        "\n",
        "* Aplikasikan library **ExtraTreesClassifier** untuk mengekstrak fitur terbaik dari dataset"
      ]
    },
    {
      "cell_type": "code",
      "metadata": {
        "colab": {
          "base_uri": "https://localhost:8080/"
        },
        "id": "ecc19331",
        "outputId": "adca1ff6-dcb5-40ed-e688-14ccb92864e2"
      },
      "source": [
        "# Import library ExtraTreesClassifier\n",
        "from sklearn.ensemble import ExtraTreesClassifier\n",
        "# Import library matplotlib\n",
        "import matplotlib.pyplot as plt \n",
        "\n",
        "# fit model ExtraTreesClassifier\n",
        "model = ExtraTreesClassifier()\n",
        "model.fit(X, y)"
      ],
      "execution_count": null,
      "outputs": [
        {
          "output_type": "stream",
          "name": "stderr",
          "text": [
            "/usr/local/lib/python3.7/dist-packages/ipykernel_launcher.py:8: DataConversionWarning: A column-vector y was passed when a 1d array was expected. Please change the shape of y to (n_samples,), for example using ravel().\n",
            "  \n"
          ]
        },
        {
          "output_type": "execute_result",
          "data": {
            "text/plain": [
              "ExtraTreesClassifier()"
            ]
          },
          "metadata": {},
          "execution_count": 136
        }
      ]
    },
    {
      "cell_type": "markdown",
      "metadata": {
        "id": "0f412161"
      },
      "source": [
        "* visualisasikan hasil dari model ExtraTreesClassifier"
      ]
    },
    {
      "cell_type": "code",
      "metadata": {
        "colab": {
          "base_uri": "https://localhost:8080/",
          "height": 364
        },
        "id": "09bdec6d",
        "outputId": "de353775-0622-494e-dd8b-8c74678bcb36"
      },
      "source": [
        "print(model.feature_importances_)\n",
        "feat_importance = pd.Series(model.feature_importances_, index=X.columns)\n",
        "feat_importance.nlargest(10).plot(kind='barh')\n",
        "plt.show()"
      ],
      "execution_count": null,
      "outputs": [
        {
          "output_type": "stream",
          "name": "stdout",
          "text": [
            "[0.03322109 0.14808488 0.42858352 0.3537882  0.03632231]\n"
          ]
        },
        {
          "output_type": "display_data",
          "data": {
            "image/png": "[encoded data removed]",
            "text/plain": [
              "<Figure size 576x396 with 1 Axes>"
            ]
          },
          "metadata": {}
        }
      ]
    },
    {
      "cell_type": "markdown",
      "metadata": {
        "id": "84af3810"
      },
      "source": [
        "### Matriks Korelasi dengan Heatmap\n",
        "---\n",
        "* Korelasi menyatakan bagaimana fitur terkait satu sama lain atau variabel target.\n",
        "* Korelasi bisa positif (kenaikan satu nilai fitur meningkatkan nilai variabel target) atau negatif (kenaikan satu nilai fitur menurunkan nilai variabel target)\n",
        "* Heatmap memudahkan untuk mengidentifikasi fitur mana yang paling terkait dengan variabel target, kami akan memplot peta panas fitur yang berkorelasi menggunakan seaborn library"
      ]
    },
    {
      "cell_type": "code",
      "metadata": {
        "colab": {
          "base_uri": "https://localhost:8080/",
          "height": 704
        },
        "id": "545ce1f8",
        "outputId": "98f6c275-9f79-487c-e91b-e97581d225ac"
      },
      "source": [
        "# mendapatkan korelasi di setiap fitur dalam dataset\n",
        "corrmat = X.corr()\n",
        "top_corr_features = corrmat.index\n",
        "plt.figure(figsize=(12,12))\n",
        "\n",
        "# plot heatmap\n",
        "h = sns.heatmap(X[top_corr_features].corr(),annot=True,cmap=\"RdYlGn\")"
      ],
      "execution_count": null,
      "outputs": [
        {
          "output_type": "display_data",
          "data": {
            "image/png": "[encoded data removed]",
            "text/plain": [
              "<Figure size 864x864 with 2 Axes>"
            ]
          },
          "metadata": {}
        }
      ]
    },
    {
      "cell_type": "markdown",
      "metadata": {
        "id": "c-ftUK5euyRP"
      },
      "source": [
        "## Split Data\n",
        "\n",
        "Memisahkan data untuk training dan testing, tetapi kali ini menjadi 70% kumpulan data training dan 30% testing."
      ]
    },
    {
      "cell_type": "code",
      "metadata": {
        "id": "jemPFDaguyRP"
      },
      "source": [
        "from sklearn.model_selection import train_test_split"
      ],
      "execution_count": null,
      "outputs": []
    },
    {
      "cell_type": "code",
      "metadata": {
        "id": "69XQQLwFuyRQ"
      },
      "source": [
        "X_train, X_test, y_train, y_test = train_test_split(X, y, test_size=0.25, random_state=0)"
      ],
      "execution_count": null,
      "outputs": []
    },
    {
      "cell_type": "markdown",
      "metadata": {
        "id": "K8aWrppmuyRQ"
      },
      "source": [
        "# **Data Preprocessing - Normalize**\n",
        "\n",
        "Scale the data to bring all features to the same level of magnitude, which means the feature / independent data will be within a specific range for example 0–100 or 0–1."
      ]
    },
    {
      "cell_type": "code",
      "metadata": {
        "id": "R2TddTG-jlaA"
      },
      "source": [
        "from sklearn.preprocessing import StandardScaler"
      ],
      "execution_count": null,
      "outputs": []
    },
    {
      "cell_type": "code",
      "metadata": {
        "id": "BIsKAkfZkJ4f"
      },
      "source": [
        "sc = StandardScaler()"
      ],
      "execution_count": null,
      "outputs": []
    },
    {
      "cell_type": "code",
      "metadata": {
        "id": "RRZ2nJ-YuyRQ"
      },
      "source": [
        "X_train = sc.fit_transform(X_train)\n",
        "X_test = sc.fit_transform(X_test)"
      ],
      "execution_count": null,
      "outputs": []
    },
    {
      "cell_type": "markdown",
      "metadata": {
        "id": "tIgS1GYiYfRo"
      },
      "source": [
        "# **Remove Outlier**"
      ]
    },
    {
      "cell_type": "code",
      "metadata": {
        "id": "nGqL9aromph9"
      },
      "source": [
        "X = df.drop(['cuaca'], axis = 1)\n",
        "y = df[['cuaca']]"
      ],
      "execution_count": null,
      "outputs": []
    },
    {
      "cell_type": "markdown",
      "metadata": {
        "id": "TkMs1xdrmr5s"
      },
      "source": [
        "**Identify Outlier**"
      ]
    },
    {
      "cell_type": "code",
      "metadata": {
        "id": "Hgw6xk1anLYL"
      },
      "source": [
        "from sklearn.neighbors import LocalOutlierFactor\n",
        "\n",
        "clf = LocalOutlierFactor()\n",
        "y_pred = clf.fit_predict(X)\n",
        "\n",
        "X_score = clf.negative_outlier_factor_\n",
        "outlier_score = pd.DataFrame()\n",
        "outlier_score[\"score\"] = X_score\n",
        "threshold = -2.5\n",
        "filtre = outlier_score[\"score\"] < threshold\n",
        "outlier_index = outlier_score[filtre].index.tolist()"
      ],
      "execution_count": null,
      "outputs": []
    },
    {
      "cell_type": "code",
      "metadata": {
        "colab": {
          "base_uri": "https://localhost:8080/",
          "height": 428
        },
        "id": "QH9txtw9wa8o",
        "outputId": "5ec1a4e4-1110-42ab-caba-3caa5b62f063"
      },
      "source": [
        "plt.figure(figsize=(10,7))\n",
        "plt.scatter(X.iloc[outlier_index,0],X.iloc[outlier_index,1],color = \"blue\", s = 50, label = \"outliers\")\n",
        "plt.scatter(X.iloc[:,0],X.iloc[:,1],color = \"k\", s = 3, label = \"Data Points\")\n",
        "radius = (X_score.max()- X_score) / (X_score.max() - X_score.min())\n",
        "outlier_score[\"radius\"] = radius\n",
        "plt.scatter(X.iloc[:,0],X.iloc[:,1],s = 1000*radius, edgecolors = \"r\", facecolors = \"none\", label = \"Outlier Scores\")\n",
        "plt.legend() \n",
        "plt.show()"
      ],
      "execution_count": null,
      "outputs": [
        {
          "output_type": "display_data",
          "data": {
            "image/png": "[encoded data removed]",
            "text/plain": [
              "<Figure size 720x504 with 1 Axes>"
            ]
          },
          "metadata": {}
        }
      ]
    },
    {
      "cell_type": "code",
      "metadata": {
        "id": "aiNXXW3LwuZ2"
      },
      "source": [
        "X = X.drop(outlier_index)\n",
        "y = y.drop(outlier_index).values"
      ],
      "execution_count": null,
      "outputs": []
    },
    {
      "cell_type": "markdown",
      "metadata": {
        "id": "PUhXy9aZwvdN"
      },
      "source": [
        "**split data and normalize**"
      ]
    },
    {
      "cell_type": "code",
      "metadata": {
        "id": "QypEDB1Mmpik"
      },
      "source": [
        "from sklearn.model_selection import train_test_split"
      ],
      "execution_count": null,
      "outputs": []
    },
    {
      "cell_type": "code",
      "metadata": {
        "id": "3yeSVwB6mpim"
      },
      "source": [
        "X_train, X_test, y_train, y_test = train_test_split(X, y, test_size=0.25, random_state=0)"
      ],
      "execution_count": null,
      "outputs": []
    },
    {
      "cell_type": "code",
      "metadata": {
        "id": "pEkUQicbmpin"
      },
      "source": [
        "from sklearn.preprocessing import StandardScaler"
      ],
      "execution_count": null,
      "outputs": []
    },
    {
      "cell_type": "code",
      "metadata": {
        "id": "9VYbP-xompin"
      },
      "source": [
        "sc = StandardScaler()"
      ],
      "execution_count": null,
      "outputs": []
    },
    {
      "cell_type": "code",
      "metadata": {
        "id": "qcv9YMy2mpio"
      },
      "source": [
        "X_train = sc.fit_transform(X_train)\n",
        "X_test = sc.fit_transform(X_test)"
      ],
      "execution_count": null,
      "outputs": []
    }
  ]
}