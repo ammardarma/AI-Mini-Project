{
  "cells": [
    {
      "cell_type": "markdown",
      "metadata": {
        "id": "6brrNzQCY8lb"
      },
      "source": [
        "![header%20ipynb.png](attachment:header%20ipynb.png)"
      ]
    },
    {
      "cell_type": "markdown",
      "metadata": {
        "id": "O5P8ofniY8lh"
      },
      "source": [
        "# Hands-On\n",
        "---\n",
        "\n",
        "Hands-On ini digunakan pada kegiatan Microcredential Associate Data Scientist 2021"
      ]
    },
    {
      "cell_type": "markdown",
      "metadata": {
        "id": "5B9N4E61Y8li"
      },
      "source": [
        "# Tugas Mandiri Pertemuan 14\n",
        "---\n",
        "Pertemuan 14 (empatbelas) pada Microcredential Associate Data Scientist 2021 menyampaikan materi mengenai Membangun Model (RNN dan LSTM). silakan Anda kerjakan Latihan 1 s/d 5. Output yang anda lihat merupakan panduan yang dapat Anda ikuti dalam penulisan code :)"
      ]
    },
    {
      "cell_type": "markdown",
      "metadata": {
        "id": "P_J3Hx6BY8lj"
      },
      "source": [
        "# RNN\n",
        "\n",
        "Jaringan saraf berulang atau recurrent neural network (RNN) adalah jenis arsitektur jaringan saraf tiruan yang pemrosesannya dipanggil berulang-ulang untuk memroses masukan yang biasanya adalah data sekuensial. RNN masuk dalam kategori deep learning karena data diproses melalui banyak lapis (layer). RNN telah mengalami kemajuan yang pesat dan telah merevolusi bidang-bidang seperti pemrosesan bahasa alami (NLP), pengenalan suara, sintesa musik, pemrosesan data finansial seri waktu, analisa deret DNA, analisa video, dan sebagainya.\n",
        "\n",
        "\n",
        "RNN memroses input secara sekuensial, sampel per sampel. Dalam tiap pemrosesan, output yang dihasilkan tidak hanya merupakan fungsi dari sampel itu saja, tapi juga berdasarkan state internal yang merupakan hasil dari pemrosesan sampel-sampel sebelumnya (atau setelahnya, pada bidirectional RNN).\n",
        "\n",
        "Berikut adalah ilustrasi bagaimana RNN bekerja. Misalnya kita membuat RNN untuk menerjemahkan bahasa Indonesia ke bahasa Inggris\n",
        "\n",
        "![image.png](attachment:image.png)\n",
        "\n",
        "Ilustrasi di atas kelihatan rumit, tapi sebenarnya cukup mudah dipahami.\n",
        "\n",
        "* sumbu horizontal adalah waktu, direpresentasikan dengan simbol t. Dapat kita bayangkan pemrosesan berjalan dari kiri ke kanan. Selanjutnya kita sebut t adalah langkah waktu (time step).\n",
        "\n",
        "* Keseluruhan input adalah kalimat, dalam hal ini:\n",
        "        Budi pergi ke sekolah.\n",
        "\n",
        "* Pemrosean input oleh RNN adalah kata demi kata. Input kata-kata ini disimbolkan dengan x1 ,x2 , … ,x5 , atau secara umum xt.\n",
        "\n",
        "* Output adalah kalimat, dalam hal ini:\n",
        "        Budi goes to school.\n",
        " \n",
        "* RNN memberikan output kata demi kata, dan ini kita simbolkan dengan ŷ1, ŷ2,  …, ŷ5 , atau secara umum ŷt .\n",
        "* Dalam tiap pemrosesan, RNN akan menyimpan state internal yaitu st, yang  diberikan dari satu langkah waktu ke langkah waktu berikutnya. Inilah “memori” dari RNN.\n",
        "\n",
        "Dengan contoh di atas, kita bisa generalisasikan arsitektur RNN sebagai berikut:\n",
        "\n",
        "![image-2.png](attachment:image-2.png)\n",
        "\n",
        "Tambahan yang tidak terdapat di diagram sebelumnya adalah U, V, dan W, yang merupakan parameter-parameter yang dimiliki RNN. Kita akan bahas pemakaian parameter-parameter ini nanti.\n",
        "\n",
        "Penting untuk dipahami bahwa walaupun ada empat kotak RNN di gambar di atas, empat kotak itu mencerminkan satu modul RNN yang sama (satu instans model dengan parameter-parameter U, V, dan W yang sama). Penggambaran di atas hanya agar aspek sekuensialnya lebih tergambar.\n",
        "\n",
        "Alternatif representasinya adalah seperti ini, agar lebih jelas bahwa hanya ada satu modul RNN:\n",
        "![image-3.png](attachment:image-3.png)\n",
        "\n",
        "Inilah sebabnya kenapa arsitektur ini disebut RNN. Kata recurrent (berulang) dalam RNN timbul karena RNN melakukan perhitungan yang sama secara berulang-ulang atas input yang kita berikan.\n",
        "\n",
        "Sering juga kedua ilustrasi di atas digabungkan jadi satu sbb:\n",
        "![image-4.png](attachment:image-4.png)\n",
        "Sesuai dengan gambar di atas, ilustrasi di sebelah kanan adalah penjabaran (unrolled) dari versi berulang di sebelah kiri."
      ]
    },
    {
      "cell_type": "markdown",
      "metadata": {
        "id": "pkiUl4kPY8ll"
      },
      "source": [
        "# Latihan (1)\n",
        "\n",
        "### Melakukan import library yang dibutuhkan"
      ]
    },
    {
      "cell_type": "code",
      "execution_count": 1,
      "metadata": {
        "_cell_guid": "b1076dfc-b9ad-4769-8c92-a6c4dae69d19",
        "_uuid": "8f2839f25d086af736a60e9eeb907d3b93b6e0e5",
        "id": "6EmYut1TY8lm"
      },
      "outputs": [],
      "source": [
        "# import library pandas\n",
        "import pandas as pd\n",
        "\n",
        "# Import library numpy\n",
        "import numpy as np\n",
        "\n",
        "# Import library matplotlib untuk visualisasi\n",
        "import matplotlib.pyplot as plt\n",
        "\n",
        "# import library for build model \n",
        "from keras.layers import Dense,Dropout,SimpleRNN, LSTM\n",
        "from keras.models import Sequential\n",
        "\n",
        "# import library untuk data preprocessing\n",
        "from sklearn.preprocessing import MinMaxScaler\n",
        "from sklearn.model_selection import train_test_split\n",
        "from sklearn.metrics import r2_score\n"
      ]
    },
    {
      "cell_type": "markdown",
      "metadata": {
        "id": "QjPxAXZ-Y8lo"
      },
      "source": [
        "### Load Dataset"
      ]
    },
    {
      "cell_type": "code",
      "execution_count": 2,
      "metadata": {
        "id": "wSBt9MimY8lp"
      },
      "outputs": [],
      "source": [
        "#Panggil file (load file bernama Stock.csv) dan simpan dalam dataframe\n",
        "dataset =\"https://raw.githubusercontent.com/ammaresok/Dataset/main/Stock.csv\"\n",
        "data = pd.read_csv(dataset)"
      ]
    },
    {
      "cell_type": "code",
      "execution_count": 3,
      "metadata": {
        "id": "n1dQhmhLY8lq",
        "outputId": "00ed2fc8-7793-4705-bbe4-cc12dc6164bd",
        "colab": {
          "base_uri": "https://localhost:8080/",
          "height": 206
        }
      },
      "outputs": [
        {
          "output_type": "execute_result",
          "data": {
            "text/html": [
              "<div>\n",
              "<style scoped>\n",
              "    .dataframe tbody tr th:only-of-type {\n",
              "        vertical-align: middle;\n",
              "    }\n",
              "\n",
              "    .dataframe tbody tr th {\n",
              "        vertical-align: top;\n",
              "    }\n",
              "\n",
              "    .dataframe thead th {\n",
              "        text-align: right;\n",
              "    }\n",
              "</style>\n",
              "<table border=\"1\" class=\"dataframe\">\n",
              "  <thead>\n",
              "    <tr style=\"text-align: right;\">\n",
              "      <th></th>\n",
              "      <th>Date</th>\n",
              "      <th>Open</th>\n",
              "      <th>High</th>\n",
              "      <th>Low</th>\n",
              "      <th>Close</th>\n",
              "      <th>Volume</th>\n",
              "      <th>Name</th>\n",
              "    </tr>\n",
              "  </thead>\n",
              "  <tbody>\n",
              "    <tr>\n",
              "      <th>0</th>\n",
              "      <td>2006-01-03</td>\n",
              "      <td>56.45</td>\n",
              "      <td>56.66</td>\n",
              "      <td>55.46</td>\n",
              "      <td>56.53</td>\n",
              "      <td>3716500</td>\n",
              "      <td>UTX</td>\n",
              "    </tr>\n",
              "    <tr>\n",
              "      <th>1</th>\n",
              "      <td>2006-01-04</td>\n",
              "      <td>56.80</td>\n",
              "      <td>56.80</td>\n",
              "      <td>55.84</td>\n",
              "      <td>56.19</td>\n",
              "      <td>3114500</td>\n",
              "      <td>UTX</td>\n",
              "    </tr>\n",
              "    <tr>\n",
              "      <th>2</th>\n",
              "      <td>2006-01-05</td>\n",
              "      <td>56.30</td>\n",
              "      <td>56.49</td>\n",
              "      <td>55.63</td>\n",
              "      <td>55.98</td>\n",
              "      <td>3118900</td>\n",
              "      <td>UTX</td>\n",
              "    </tr>\n",
              "    <tr>\n",
              "      <th>3</th>\n",
              "      <td>2006-01-06</td>\n",
              "      <td>56.45</td>\n",
              "      <td>56.67</td>\n",
              "      <td>56.10</td>\n",
              "      <td>56.16</td>\n",
              "      <td>2874300</td>\n",
              "      <td>UTX</td>\n",
              "    </tr>\n",
              "    <tr>\n",
              "      <th>4</th>\n",
              "      <td>2006-01-09</td>\n",
              "      <td>56.37</td>\n",
              "      <td>56.90</td>\n",
              "      <td>56.16</td>\n",
              "      <td>56.80</td>\n",
              "      <td>2467200</td>\n",
              "      <td>UTX</td>\n",
              "    </tr>\n",
              "  </tbody>\n",
              "</table>\n",
              "</div>"
            ],
            "text/plain": [
              "         Date   Open   High    Low  Close   Volume Name\n",
              "0  2006-01-03  56.45  56.66  55.46  56.53  3716500  UTX\n",
              "1  2006-01-04  56.80  56.80  55.84  56.19  3114500  UTX\n",
              "2  2006-01-05  56.30  56.49  55.63  55.98  3118900  UTX\n",
              "3  2006-01-06  56.45  56.67  56.10  56.16  2874300  UTX\n",
              "4  2006-01-09  56.37  56.90  56.16  56.80  2467200  UTX"
            ]
          },
          "metadata": {},
          "execution_count": 3
        }
      ],
      "source": [
        "# tampilkan 5 baris data \n",
        "data.head()"
      ]
    },
    {
      "cell_type": "markdown",
      "metadata": {
        "id": "wh9QgwS3Y8ls"
      },
      "source": [
        "### Review Data"
      ]
    },
    {
      "cell_type": "code",
      "execution_count": 4,
      "metadata": {
        "_uuid": "f7be14868f30eaa55193cb7ad2674c72c447fa59",
        "id": "jrNo8I-oY8ls",
        "outputId": "0f80c36b-9b95-48a5-c556-5763978e303c",
        "colab": {
          "base_uri": "https://localhost:8080/",
          "height": 0
        }
      },
      "outputs": [
        {
          "output_type": "stream",
          "name": "stdout",
          "text": [
            "<class 'pandas.core.frame.DataFrame'>\n",
            "RangeIndex: 3020 entries, 0 to 3019\n",
            "Data columns (total 7 columns):\n",
            " #   Column  Non-Null Count  Dtype  \n",
            "---  ------  --------------  -----  \n",
            " 0   Date    3020 non-null   object \n",
            " 1   Open    3019 non-null   float64\n",
            " 2   High    3020 non-null   float64\n",
            " 3   Low     3020 non-null   float64\n",
            " 4   Close   3020 non-null   float64\n",
            " 5   Volume  3020 non-null   int64  \n",
            " 6   Name    3020 non-null   object \n",
            "dtypes: float64(4), int64(1), object(2)\n",
            "memory usage: 165.3+ KB\n"
          ]
        }
      ],
      "source": [
        "# Melihat Informasi lebih detail mengenai struktur DataFrame dapat dilihat menggunakan fungsi info()\n",
        "data.info()"
      ]
    },
    {
      "cell_type": "code",
      "execution_count": 5,
      "metadata": {
        "_uuid": "d1c7f3ee1eabccd4186e8046252a379ef7b5cefa",
        "id": "NOSyxsq7Y8lt"
      },
      "outputs": [],
      "source": [
        "# Kolom 'low' yang akan kita gunakan dalam membangun model\n",
        "# Slice kolom 'low' \n",
        "\n",
        "Low_data = data.iloc[:,3:4].values"
      ]
    },
    {
      "cell_type": "code",
      "execution_count": 6,
      "metadata": {
        "_uuid": "3022aa336271cc887b9f29b142f7351c6840a123",
        "id": "8VeQtNUxY8lt",
        "outputId": "821723a3-b0ee-48b1-edf2-22e63c0edb57",
        "colab": {
          "base_uri": "https://localhost:8080/",
          "height": 0
        }
      },
      "outputs": [
        {
          "output_type": "execute_result",
          "data": {
            "text/plain": [
              "array([[ 55.46],\n",
              "       [ 55.84],\n",
              "       [ 55.63],\n",
              "       ...,\n",
              "       [126.92],\n",
              "       [127.29],\n",
              "       [127.57]])"
            ]
          },
          "metadata": {},
          "execution_count": 6
        }
      ],
      "source": [
        "# cek output low_data\n",
        "Low_data           "
      ]
    },
    {
      "cell_type": "code",
      "execution_count": 7,
      "metadata": {
        "_uuid": "0fba437dbe916d38aa29f7e3b8d3c0058e72cd6f",
        "id": "XBqMJN3AY8lu",
        "outputId": "758fba94-0a68-40c8-bf24-e0fbc3e54e20",
        "colab": {
          "base_uri": "https://localhost:8080/",
          "height": 628
        }
      },
      "outputs": [
        {
          "output_type": "display_data",
          "data": {
            "image/png": "[encoded data removed]",
            "text/plain": [
              "<Figure size 1008x720 with 1 Axes>"
            ]
          },
          "metadata": {
            "needs_background": "light"
          }
        }
      ],
      "source": [
        "# Visualizing low_data\n",
        "\n",
        "plt.figure(figsize=(14,10))                 \n",
        "plt.plot(Low_data,c=\"red\")\n",
        "plt.title(\"Microsoft Stock Prices\",fontsize=16)\n",
        "plt.xlabel(\"Days\",fontsize=16)\n",
        "plt.ylabel(\"Scaled Price\",fontsize=16)\n",
        "plt.grid()\n",
        "plt.show()"
      ]
    },
    {
      "cell_type": "markdown",
      "metadata": {
        "_uuid": "0ed6338b04615f1c9b8aee0c017a21c5f6c9f44e",
        "id": "NFwYSDguY8lu"
      },
      "source": [
        "# Latihan (2)\n",
        "\n",
        "###  Data Preprocessing"
      ]
    },
    {
      "cell_type": "code",
      "execution_count": 9,
      "metadata": {
        "_uuid": "77340783a8ce9d6b1a7bd66eb0adf38fb8dea48b",
        "id": "vDLjv8WRY8lv"
      },
      "outputs": [],
      "source": [
        "# Menskalakan data antara 1 dan 0 (scaling) pada low data\n",
        "\n",
        "scaler = MinMaxScaler(feature_range=(0,1))\n",
        "Low_scaled = scaler.fit_transform(Low_data)"
      ]
    },
    {
      "cell_type": "code",
      "execution_count": 8,
      "metadata": {
        "_uuid": "47988513e859e73a34e041fa5131518451fac658",
        "id": "xW9LqoscY8lv"
      },
      "outputs": [],
      "source": [
        "# definisikan variabel step dan train \n",
        "\n",
        "step_size = 21\n",
        "train_x = []\n",
        "train_y = []"
      ]
    },
    {
      "cell_type": "code",
      "execution_count": 10,
      "metadata": {
        "_uuid": "5b23b8ae7d949d774e89d3c9c4115a941737b5ea",
        "id": "77oKBzMGY8lv"
      },
      "outputs": [],
      "source": [
        "# membuat fitur dan lists label\n",
        "\n",
        "for i in range(step_size, 3019):\n",
        "  train_x.append(Low_scaled[i-step_size:i,0])\n",
        "  train_y.append(Low_scaled[i,0])"
      ]
    },
    {
      "cell_type": "code",
      "execution_count": 12,
      "metadata": {
        "_uuid": "7afe032f495d63420e151b189c323b91e6fe76d4",
        "id": "5Uq-hyNjY8lw"
      },
      "outputs": [],
      "source": [
        "# mengonversi list yang telah dibuat sebelumnya ke array\n",
        "\n",
        "train_x = np.array(train_x)\n",
        "train_y = np.array(train_y)"
      ]
    },
    {
      "cell_type": "code",
      "execution_count": 13,
      "metadata": {
        "_uuid": "c5c05709eb62cd77d0b023ce9c2d4cc9d69bcdcf",
        "id": "mRP1xJ3TY8lw",
        "outputId": "ee8f4e0f-3ff0-44fa-f7ce-a21f5213b91d",
        "colab": {
          "base_uri": "https://localhost:8080/",
          "height": 0
        }
      },
      "outputs": [
        {
          "output_type": "execute_result",
          "data": {
            "text/plain": [
              "(2998, 21)"
            ]
          },
          "metadata": {},
          "execution_count": 13
        }
      ],
      "source": [
        "# cek dimensi data dengan function .shape\n",
        "\n",
        "train_x.shape                           "
      ]
    },
    {
      "cell_type": "code",
      "execution_count": 14,
      "metadata": {
        "_uuid": "dfcc9188e7c1329d9f2c10e5d72ea40f4e168802",
        "id": "sGGf1ZtZY8lw"
      },
      "outputs": [],
      "source": [
        "# 498 hari terakhir akan digunakan dalam pengujian\n",
        "# 2500 hari pertama akan digunakan dalam pelatihan\n",
        "\n",
        "test_x = train_x[2500:]\n",
        "train_x = train_x[:2500]\n",
        "test_y = train_y[2500:]\n",
        "train_y = train_y[:2500]"
      ]
    },
    {
      "cell_type": "code",
      "execution_count": 15,
      "metadata": {
        "_uuid": "75911a4fb246652ef811a6bc967e2de45ec56bbb",
        "id": "GJONCEdIY8lx"
      },
      "outputs": [],
      "source": [
        "# reshape data untuk dimasukkan kedalam Keras model\n",
        "\n",
        "train_x = np.reshape(train_x, (2500, step_size, 1))\n",
        "test_x = np.reshape(test_x, (498, step_size, 1))\n"
      ]
    },
    {
      "cell_type": "code",
      "execution_count": 16,
      "metadata": {
        "_uuid": "39807a2261f198b8ad0e1b15f7d277bac14fbe79",
        "id": "tboPtJvJY8lx",
        "outputId": "1aa05490-9f01-4efd-e6d9-c5c2c980882d",
        "colab": {
          "base_uri": "https://localhost:8080/",
          "height": 0
        }
      },
      "outputs": [
        {
          "output_type": "stream",
          "name": "stdout",
          "text": [
            "(2500, 21, 1)\n",
            "(498, 21, 1)\n"
          ]
        }
      ],
      "source": [
        "# cek kembali dimensi data yang telah di reshape dengan function .shape\n",
        "\n",
        "print(train_x.shape)\n",
        "print(test_x.shape)                        "
      ]
    },
    {
      "cell_type": "markdown",
      "metadata": {
        "_uuid": "36ce211bae2ce73bb74f9c68bebd8341bfa4dcaa",
        "id": "2Iqv1pZvY8lx"
      },
      "source": [
        "Sekarang kita bisa mulai membuat model kita, dimulai dengan RNN"
      ]
    },
    {
      "cell_type": "markdown",
      "metadata": {
        "_uuid": "0ed6338b04615f1c9b8aee0c017a21c5f6c9f44e",
        "id": "2i_0ZrYJY8lx"
      },
      "source": [
        "# Latihan (3)\n",
        "\n",
        "###  Build Model - RNN"
      ]
    },
    {
      "cell_type": "code",
      "execution_count": 17,
      "metadata": {
        "_uuid": "7c537bd5662768a89af0ca153cc873dffe3c357f",
        "id": "70z2wbmMY8ly"
      },
      "outputs": [],
      "source": [
        "# buat varibel penampung model RNN\n",
        "rnn_model = Sequential()"
      ]
    },
    {
      "cell_type": "code",
      "execution_count": 19,
      "metadata": {
        "_uuid": "b8d82124786360d2839b63165fb242921d93f8a1",
        "id": "c5-phmXuY8ly"
      },
      "outputs": [],
      "source": [
        "# Output dari SimpleRNN akan menjadi bentuk tensor 2D (batch_size, 40) dengan Dropout sebesar 0.15\n",
        "rnn_model.add(SimpleRNN(40, activation='tanh', return_sequences=True, input_shape=(train_x.shape[1], 1)))\n",
        "rnn_model.add(Dropout(0.15))\n",
        "\n",
        "rnn_model.add(SimpleRNN(40, activation='tanh',return_sequences=True))\n",
        "rnn_model.add(Dropout(0.15))\n",
        "\n",
        "rnn_model.add(SimpleRNN(40, activation='tanh', return_sequences=False))\n",
        "rnn_model.add(Dropout(0.15))\n",
        "\n",
        "# Add a Dense layer with 1 units.\n",
        "rnn_model.add(Dense(1))"
      ]
    },
    {
      "cell_type": "code",
      "execution_count": 20,
      "metadata": {
        "_uuid": "e6bfdf03b0efa3c44f001b9f3861de965c8461a8",
        "id": "X7YC-CmRY8ly"
      },
      "outputs": [],
      "source": [
        "# menambahkan loss function kedalam model RNN dengan tipe MSE\n",
        "\n",
        "rnn_model.compile(optimizer=\"adam\", loss=\"MSE\")"
      ]
    },
    {
      "cell_type": "code",
      "execution_count": 21,
      "metadata": {
        "_uuid": "44d96eb8a0fa58ecfa5d17df71306006b254ad12",
        "id": "Kp-9PfejY8ly",
        "outputId": "e0c8e9d1-e79a-4ddf-f9af-214a6966d46c",
        "colab": {
          "base_uri": "https://localhost:8080/",
          "height": 0
        }
      },
      "outputs": [
        {
          "output_type": "stream",
          "name": "stdout",
          "text": [
            "Epoch 1/20\n",
            "100/100 [==============================] - 5s 19ms/step - loss: 0.3177\n",
            "Epoch 2/20\n",
            "100/100 [==============================] - 2s 20ms/step - loss: 0.1420\n",
            "Epoch 3/20\n",
            "100/100 [==============================] - 2s 20ms/step - loss: 0.0872\n",
            "Epoch 4/20\n",
            "100/100 [==============================] - 2s 19ms/step - loss: 0.0595\n",
            "Epoch 5/20\n",
            "100/100 [==============================] - 2s 19ms/step - loss: 0.0422\n",
            "Epoch 6/20\n",
            "100/100 [==============================] - 2s 20ms/step - loss: 0.0320\n",
            "Epoch 7/20\n",
            "100/100 [==============================] - 2s 20ms/step - loss: 0.0258\n",
            "Epoch 8/20\n",
            "100/100 [==============================] - 2s 20ms/step - loss: 0.0204\n",
            "Epoch 9/20\n",
            "100/100 [==============================] - 2s 20ms/step - loss: 0.0176\n",
            "Epoch 10/20\n",
            "100/100 [==============================] - 2s 20ms/step - loss: 0.0147\n",
            "Epoch 11/20\n",
            "100/100 [==============================] - 2s 20ms/step - loss: 0.0137\n",
            "Epoch 12/20\n",
            "100/100 [==============================] - 2s 20ms/step - loss: 0.0121\n",
            "Epoch 13/20\n",
            "100/100 [==============================] - 2s 20ms/step - loss: 0.0106\n",
            "Epoch 14/20\n",
            "100/100 [==============================] - 2s 20ms/step - loss: 0.0086\n",
            "Epoch 15/20\n",
            "100/100 [==============================] - 2s 20ms/step - loss: 0.0088\n",
            "Epoch 16/20\n",
            "100/100 [==============================] - 2s 20ms/step - loss: 0.0082\n",
            "Epoch 17/20\n",
            "100/100 [==============================] - 2s 20ms/step - loss: 0.0075\n",
            "Epoch 18/20\n",
            "100/100 [==============================] - 2s 21ms/step - loss: 0.0067\n",
            "Epoch 19/20\n",
            "100/100 [==============================] - 2s 21ms/step - loss: 0.0060\n",
            "Epoch 20/20\n",
            "100/100 [==============================] - 2s 21ms/step - loss: 0.0058\n"
          ]
        },
        {
          "output_type": "execute_result",
          "data": {
            "text/plain": [
              "<keras.callbacks.History at 0x7fb919c462d0>"
            ]
          },
          "metadata": {},
          "execution_count": 21
        }
      ],
      "source": [
        "# fit the model RNN, dengan epoch 20 dan batch size 25\n",
        "\n",
        "rnn_model.fit(train_x, train_y, epochs=20, batch_size=25)"
      ]
    },
    {
      "cell_type": "code",
      "execution_count": 24,
      "metadata": {
        "_uuid": "da7338ba384e18f235cd083bd9602c848e7ec8cb",
        "id": "M8rO3l2iY8ly"
      },
      "outputs": [],
      "source": [
        "# Prediksi Model RNN\n",
        "\n",
        "rnn_predictions=rnn_model.predict(test_x)\n",
        "rnn_score = r2_score(test_y, rnn_predictions)"
      ]
    },
    {
      "cell_type": "code",
      "execution_count": 25,
      "metadata": {
        "scrolled": true,
        "id": "JqqJX3LTY8lz",
        "outputId": "42d27de5-d104-4bf6-c3d9-19e6616f8a61",
        "colab": {
          "base_uri": "https://localhost:8080/",
          "height": 0
        }
      },
      "outputs": [
        {
          "output_type": "execute_result",
          "data": {
            "text/plain": [
              "0.838597067230154"
            ]
          },
          "metadata": {},
          "execution_count": 25
        }
      ],
      "source": [
        "rnn_score"
      ]
    },
    {
      "cell_type": "markdown",
      "metadata": {
        "_uuid": "0ed6338b04615f1c9b8aee0c017a21c5f6c9f44e",
        "id": "PpRpokhvY8lz"
      },
      "source": [
        "# Latihan (4)\n",
        "\n",
        "###  Build Model - LSTM"
      ]
    },
    {
      "cell_type": "code",
      "execution_count": 26,
      "metadata": {
        "_uuid": "b0281b303bd5e032c2115cdf9d6c184908f9bd03",
        "id": "uMx_cr-WY8lz"
      },
      "outputs": [],
      "source": [
        "# buat varibel penampung model LSTM\n",
        "lstm_model = Sequential() "
      ]
    },
    {
      "cell_type": "code",
      "execution_count": 28,
      "metadata": {
        "_uuid": "fcb29b0dffb87ef05bc4b1c7ce2c03e9fc166770",
        "id": "h51IxEztY8lz"
      },
      "outputs": [],
      "source": [
        "# Add a LSTM layer with 40 internal units. dengan Dropout sebesar 0.15\n",
        "lstm_model.add(LSTM(40, activation=\"tanh\", return_sequences=True, input_shape=(train_x.shape[1],1)))\n",
        "lstm_model.add(Dropout(0.15))\n",
        "\n",
        "lstm_model.add(LSTM(40, activation=\"tanh\", return_sequences=True))\n",
        "lstm_model.add(Dropout(0.15))\n",
        "\n",
        "lstm_model.add(LSTM(40, activation=\"tanh\", return_sequences=False))\n",
        "lstm_model.add(Dropout(0.15))\n",
        "\n",
        "\n",
        "\n",
        "# Add a Dense layer with 1 units.\n",
        "lstm_model.add(Dense(1))"
      ]
    },
    {
      "cell_type": "code",
      "execution_count": 29,
      "metadata": {
        "_uuid": "d9db1d5c8f05a80cedc9b603b518760266ce6776",
        "id": "BfhG5FlLY8lz"
      },
      "outputs": [],
      "source": [
        "# menambahkan loss function kedalam model lstm dengan tipe MSE\n",
        "\n",
        "lstm_model.compile(optimizer=\"adam\", loss=\"MSE\")"
      ]
    },
    {
      "cell_type": "code",
      "execution_count": 30,
      "metadata": {
        "_uuid": "605f71e78831cbef65aef8638670a4fa95b77e85",
        "id": "NsZyE56VY8l0",
        "outputId": "a51daab9-f35b-4dbd-b77a-57a327a02140",
        "colab": {
          "base_uri": "https://localhost:8080/",
          "height": 0
        }
      },
      "outputs": [
        {
          "output_type": "stream",
          "name": "stdout",
          "text": [
            "Epoch 1/20\n",
            "100/100 [==============================] - 12s 39ms/step - loss: 0.0180\n",
            "Epoch 2/20\n",
            "100/100 [==============================] - 4s 40ms/step - loss: 0.0042\n",
            "Epoch 3/20\n",
            "100/100 [==============================] - 4s 40ms/step - loss: 0.0036\n",
            "Epoch 4/20\n",
            "100/100 [==============================] - 4s 40ms/step - loss: 0.0038\n",
            "Epoch 5/20\n",
            "100/100 [==============================] - 4s 41ms/step - loss: 0.0033\n",
            "Epoch 6/20\n",
            "100/100 [==============================] - 4s 40ms/step - loss: 0.0032\n",
            "Epoch 7/20\n",
            "100/100 [==============================] - 4s 40ms/step - loss: 0.0031\n",
            "Epoch 8/20\n",
            "100/100 [==============================] - 4s 40ms/step - loss: 0.0029\n",
            "Epoch 9/20\n",
            "100/100 [==============================] - 4s 40ms/step - loss: 0.0028\n",
            "Epoch 10/20\n",
            "100/100 [==============================] - 4s 40ms/step - loss: 0.0026\n",
            "Epoch 11/20\n",
            "100/100 [==============================] - 4s 40ms/step - loss: 0.0024\n",
            "Epoch 12/20\n",
            "100/100 [==============================] - 4s 40ms/step - loss: 0.0025\n",
            "Epoch 13/20\n",
            "100/100 [==============================] - 4s 40ms/step - loss: 0.0025\n",
            "Epoch 14/20\n",
            "100/100 [==============================] - 4s 40ms/step - loss: 0.0022\n",
            "Epoch 15/20\n",
            "100/100 [==============================] - 4s 41ms/step - loss: 0.0022\n",
            "Epoch 16/20\n",
            "100/100 [==============================] - 4s 40ms/step - loss: 0.0021\n",
            "Epoch 17/20\n",
            "100/100 [==============================] - 4s 40ms/step - loss: 0.0020\n",
            "Epoch 18/20\n",
            "100/100 [==============================] - 4s 41ms/step - loss: 0.0019\n",
            "Epoch 19/20\n",
            "100/100 [==============================] - 4s 40ms/step - loss: 0.0020\n",
            "Epoch 20/20\n",
            "100/100 [==============================] - 4s 40ms/step - loss: 0.0020\n"
          ]
        },
        {
          "output_type": "execute_result",
          "data": {
            "text/plain": [
              "<keras.callbacks.History at 0x7fb9196cb710>"
            ]
          },
          "metadata": {},
          "execution_count": 30
        }
      ],
      "source": [
        "# fit lstm model, dengan epoch 20 dan batch size 25\n",
        "\n",
        "lstm_model.fit(train_x, train_y, epochs=20, batch_size=25)"
      ]
    },
    {
      "cell_type": "code",
      "execution_count": 31,
      "metadata": {
        "_uuid": "411eafbf6eb7f155f10461be59d6ab371893e62f",
        "id": "jZYq-orxY8l0"
      },
      "outputs": [],
      "source": [
        "# Prediksi Model LSTM\n",
        "lstm_predictions = lstm_model.predict(test_x)\n",
        "\n",
        "lstm_score = r2_score(test_y, lstm_predictions)"
      ]
    },
    {
      "cell_type": "code",
      "execution_count": 35,
      "metadata": {
        "_uuid": "6940c2d59c0762be788df610509d5b73373e38a0",
        "scrolled": true,
        "id": "A9ODXOQYY8l0",
        "outputId": "b9a35284-a605-4132-faf9-298462a2850c",
        "colab": {
          "base_uri": "https://localhost:8080/",
          "height": 0
        }
      },
      "outputs": [
        {
          "output_type": "execute_result",
          "data": {
            "text/plain": [
              "0.8980475701352097"
            ]
          },
          "metadata": {},
          "execution_count": 35
        }
      ],
      "source": [
        "lstm_score"
      ]
    },
    {
      "cell_type": "markdown",
      "metadata": {
        "_uuid": "0ed6338b04615f1c9b8aee0c017a21c5f6c9f44e",
        "id": "hRo9MI4MY8l0"
      },
      "source": [
        "# Latihan (5)\n",
        "\n",
        "### Evaluation"
      ]
    },
    {
      "cell_type": "code",
      "execution_count": 37,
      "metadata": {
        "_uuid": "1e2dcc7ce554b96eeefe27b7a34e1194351b54f3",
        "id": "7BaPeB8jY8l1",
        "outputId": "28fa4f51-bb9b-4696-c647-ca03de060c5c",
        "colab": {
          "base_uri": "https://localhost:8080/",
          "height": 0
        }
      },
      "outputs": [
        {
          "output_type": "stream",
          "name": "stdout",
          "text": [
            "R^2 Score dari model RNN 0.838597067230154\n",
            "R^2 Score dari model LSTM 0.8980475701352097\n"
          ]
        }
      ],
      "source": [
        "# Cetak nilai prediksi masing-masing model dengan menggunakan r^2 square\n",
        "\n",
        "print(\"R^2 Score dari model RNN\", rnn_score)\n",
        "print(\"R^2 Score dari model LSTM\", lstm_score)"
      ]
    },
    {
      "cell_type": "markdown",
      "metadata": {
        "id": "L0k795SnY8l1"
      },
      "source": [
        "### Visualisasi Perbandingan Hasil Model prediksi dengan data original "
      ]
    },
    {
      "cell_type": "code",
      "execution_count": 38,
      "metadata": {
        "_uuid": "feeb5905d3e1767d3d4cd93e4ce834d6f89e98fc",
        "id": "2oMBnckMY8l1"
      },
      "outputs": [],
      "source": [
        "lstm_predictions = scaler.inverse_transform(lstm_predictions)\n",
        "rnn_predictions = scaler.inverse_transform(rnn_predictions)\n",
        "test_y = scaler.inverse_transform(test_y.reshape(-1,1))"
      ]
    },
    {
      "cell_type": "code",
      "execution_count": 39,
      "metadata": {
        "_uuid": "e9cf7c92445b1ec84e7597139cf49770b8282924",
        "id": "8FSCOyRoY8l1",
        "outputId": "49ef37a0-06e5-4161-ae36-807e5c4a6f09",
        "colab": {
          "base_uri": "https://localhost:8080/",
          "height": 721
        }
      },
      "outputs": [
        {
          "output_type": "display_data",
          "data": {
            "image/png": "[encoded data removed]",
            "text/plain": [
              "<Figure size 1152x864 with 1 Axes>"
            ]
          },
          "metadata": {
            "needs_background": "light"
          }
        }
      ],
      "source": [
        "plt.figure(figsize=(16,12))\n",
        "\n",
        "plt.plot(test_y, c=\"blue\",linewidth=2, label=\"original\")\n",
        "plt.plot(lstm_predictions, c=\"green\",linewidth=2, label=\"LSTM\")\n",
        "plt.plot(rnn_predictions, c=\"red\",linewidth=2, label=\"RNN\")\n",
        "plt.legend()\n",
        "plt.title(\"PERBANDINGAN\",fontsize=20)\n",
        "plt.grid()\n",
        "plt.show()"
      ]
    },
    {
      "cell_type": "markdown",
      "metadata": {
        "_uuid": "4d17d70b478ab4281e931edfdf258db7f727efa5",
        "id": "idivM5iuY8l1"
      },
      "source": [
        "## Berikan Kesimpulan Anda!"
      ]
    },
    {
      "cell_type": "code",
      "execution_count": null,
      "metadata": {
        "_uuid": "80048aaf1eba053202fd8972548c3f0ce57bd360",
        "id": "5NpxSpgBY8l1"
      },
      "outputs": [],
      "source": [
        "# write here\n",
        "Dalam hal ini LSTM memiliki besaran score lebih besar dibanding RNN, LSTM memiliki hasil prediksi lebih baik dari RNN dalam kasus ini."
      ]
    }
  ],
  "metadata": {
    "kernelspec": {
      "display_name": "Python 3",
      "language": "python",
      "name": "python3"
    },
    "language_info": {
      "codemirror_mode": {
        "name": "ipython",
        "version": 3
      },
      "file_extension": ".py",
      "mimetype": "text/x-python",
      "name": "python",
      "nbconvert_exporter": "python",
      "pygments_lexer": "ipython3",
      "version": "3.8.8"
    },
    "colab": {
      "name": "[SOAL] Pertemuan 14_Tugas Mandiri.ipynb",
      "provenance": [],
      "collapsed_sections": []
    }
  },
  "nbformat": 4,
  "nbformat_minor": 0
}